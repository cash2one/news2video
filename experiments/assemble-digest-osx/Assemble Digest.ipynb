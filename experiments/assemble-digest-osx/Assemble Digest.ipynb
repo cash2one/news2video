{
 "cells": [
  {
   "cell_type": "code",
   "execution_count": 51,
   "metadata": {
    "collapsed": false
   },
   "outputs": [],
   "source": [
    "import requests\n",
    "from readability.readability import Document\n",
    "import pandas as pd\n",
    "import bs4\n",
    "from bs4 import Tag, BeautifulSoup\n",
    "import hashlib\n",
    "import os\n",
    "from os import path\n",
    "import sh\n",
    "import multiprocessing\n",
    "import docopt\n",
    "\n",
    "\n",
    "class Extractor(object):\n",
    "    \"\"\"\n",
    "    Extract text/ images sequences from a web page's main body\n",
    "    \"\"\"\n",
    "    def __init__(self, base_url):\n",
    "        self.cur_text = ''\n",
    "        self.result = []\n",
    "        self.base_url = base_url\n",
    "\n",
    "    def get_abs_url(self, url):\n",
    "        if url.startswith('http://') or url.startswith('https://'):\n",
    "            return url\n",
    "        else:\n",
    "            return '%s/%s' % (self.base_url, url)\n",
    "\n",
    "    def recursive_extract_text_image(self, obj):\n",
    "        # reference:\n",
    "        # http://stackoverflow.com/questions/20590624/python-beautifulsoup-div-text-and-img-attributes-in-correct-order\n",
    "        for child in obj.children:\n",
    "            if isinstance(child, Tag):\n",
    "                #result.append(child.get('alt', ''))\n",
    "                self.recursive_extract_text_image(child)\n",
    "                if child.name == 'img':\n",
    "                    self.result.append(('text', self.cur_text))\n",
    "                    self.cur_text = ''\n",
    "                    self.result.append(('image',\n",
    "                                        self.get_abs_url(child['src'])\n",
    "                    ))\n",
    "            else:\n",
    "                if len(child.strip()) > 0:\n",
    "                    self.cur_text += ' ' + child.strip() + ' '\n",
    "\n",
    "    def html_to_asset_list(self, html):\n",
    "        \"\"\"\n",
    "        :param html: The html content in str\n",
    "        :return: The extracted list of text/ image sequence\n",
    "        \"\"\"\n",
    "        bs_obj = BeautifulSoup(html, 'html.parser')\n",
    "        self.result = []\n",
    "        self.cur_text = ''\n",
    "        self.recursive_extract_text_image(bs_obj)\n",
    "        self.result.append(('text', self.cur_text))\n",
    "        return self.result\n",
    "\n",
    "\n",
    "#global_pool = None\n",
    "\n",
    "class Converter(object):\n",
    "    def __init__(self, num_pools=4):\n",
    "        #global global_pool\n",
    "        #global_pool = multiprocessing.Pool(num_pools)\n",
    "        pass\n",
    "\n",
    "    def execute(self, command):\n",
    "        return os.system(command)\n",
    "\n",
    "    def execute_all(self, commands):\n",
    "        #global global_pool\n",
    "        #return global_pool.map(self.execute, commands)\n",
    "        print(commands)\n",
    "        for c in commands:\n",
    "            os.system(c)\n",
    "\n",
    "    def string2hash(self, s):\n",
    "        m = hashlib.sha256()\n",
    "        m.update(s.encode('utf-8'))\n",
    "        return m.hexdigest()[:16]\n",
    "\n",
    "    def get_audio_length(self, local_src):\n",
    "        filename = local_src + '.wav'\n",
    "        # Caveats: can only deal with < 60s audios\n",
    "        # | grep Duration | cut -f1 -d, | cut -f4 -d:\n",
    "        seconds = sh.soxi('-D', filename)\n",
    "        return seconds.strip()\n",
    "\n",
    "    def get_screen_play(self, url):\n",
    "        \"\"\"Download webpage and analyze basic sequence\n",
    "\n",
    "        :param url:\n",
    "        :return:\n",
    "        \"\"\"\n",
    "        res = requests.get(url)\n",
    "        html = res.content.decode('utf-8')\n",
    "        # Analyze basic sequence\n",
    "        readable_article = Document(html).summary()\n",
    "        self.readable_article = readable_article\n",
    "        readable_title = Document(html).title()\n",
    "        self.readable_title = readable_title\n",
    "        base_url = path.dirname(res.request.url)\n",
    "        result = Extractor(base_url).html_to_asset_list(readable_article)\n",
    "        #print(result)\n",
    "        df_screenplay = pd.DataFrame(result, columns=['type', 'content'])\n",
    "        df_screenplay['local_src'] = df_screenplay['content'].apply(lambda x: self.string2hash(x))\n",
    "        image_selector = (df_screenplay['type'] == 'image')\n",
    "        df_screenplay.loc[image_selector, 'filename'] = df_screenplay.loc[\n",
    "            image_selector, 'content'].apply(lambda x: path.basename(x))\n",
    "        df_screenplay.loc[image_selector, 'extname'] = df_screenplay.loc[\n",
    "            image_selector, 'filename'].apply(lambda x: path.splitext(x)[1])\n",
    "        df_screenplay = df_screenplay.fillna('')\n",
    "        df_screenplay['download_name'] = df_screenplay['local_src'] + df_screenplay['extname']\n",
    "        df_screenplay['converted_name'] = df_screenplay['local_src'] + '.png'\n",
    "\n",
    "        self.df_screenplay = df_screenplay\n",
    "        return df_screenplay\n",
    "\n",
    "    def get_png_images(self):\n",
    "        \"\"\"Download images and convert to .png\n",
    "        :return:\n",
    "        \"\"\"\n",
    "        commands = []\n",
    "        for (i, r) in self.df_screenplay.iterrows():\n",
    "            if r['type'] == 'image':\n",
    "                commands.append('wget {content} -O {download_name}'.format(**r))\n",
    "        self.execute_all(commands)\n",
    "        commands = []\n",
    "        for (i, r) in self.df_screenplay.iterrows():\n",
    "            if r['type'] == 'image':\n",
    "                commands.append('convert {download_name} -geometry 600x400! {converted_name}'.format(**r))\n",
    "        self.execute_all(commands)\n",
    "\n",
    "    def text_to_speech(self, rate, voice):\n",
    "        \"\"\" Generate audio via say (m4a) and convert to (wav)\n",
    "\n",
    "        :return:\n",
    "        \"\"\"\n",
    "        commands = []\n",
    "        for (i, r) in self.df_screenplay.iterrows():\n",
    "            if r['type'] == 'text':\n",
    "                #commands.append('say --output-file={local_src}.m4a --voice=daniel --rate=220 --progress --file-format=m4af \"{content}\"'.format(**r))\n",
    "                #commands.append('say --output-file={local_src}.m4a -v Ting-Ting --rate=300 --progress --file-format=m4af \"{content}\"'.format(**r))\n",
    "                commands.append('say --output-file={local_src}.m4a -v {voice} --rate={rate} --progress --file-format=m4af \"{content}\"'.format(rate=rate, voice=voice, **r))\n",
    "        self.execute_all(commands)\n",
    "        # Convert to .wav\n",
    "        commands = []\n",
    "        for (i, r) in self.df_screenplay.iterrows():\n",
    "            if r['type'] == 'text':\n",
    "                commands.append('avconv -i {local_src}.m4a -y {local_src}.wav'.format(**r))\n",
    "        self.execute_all(commands)\n",
    "        # Analyze audio duration\n",
    "        text_selector = (self.df_screenplay['type'] == 'text')\n",
    "        self.df_screenplay.loc[text_selector, 'duration'] = self.df_screenplay.loc[text_selector, 'local_src'].apply(self.get_audio_length)\n",
    "\n",
    "    def organise_scenes(self):\n",
    "        \"\"\" Organise scenes\n",
    "        From:\n",
    "\n",
    "        :return:\n",
    "        \"\"\"\n",
    "        scenes = []\n",
    "        df_sp_orged = self.df_screenplay.reset_index()\n",
    "        # Group the sequence\n",
    "        df_sp_orged['group'] = df_sp_orged['index'].apply(lambda x: int((x + 1) / 2))\n",
    "        for (gname, group) in df_sp_orged.groupby('group'):\n",
    "            if len(group[group['type'] == 'image']) == 0:\n",
    "                fn_image = 'default-image.png'\n",
    "            else:\n",
    "                fn_image = group[group['type'] == 'image']['converted_name'].values[0]\n",
    "\n",
    "            if len(group[group['type'] == 'text']) == 0:\n",
    "                duration = 1.53\n",
    "                fn_audio = 'default-audio.mp4'\n",
    "            else:\n",
    "                duration = group[group['type'] == 'text']['duration'].values[0]\n",
    "                fn_audio = group[group['type'] == 'text']['local_src'].values[0] + '.m4a'\n",
    "            scenes.append(('%04d' % gname, fn_image, duration, fn_audio))\n",
    "        df_scenes = pd.DataFrame(scenes, columns=['group', 'fn_image', 'duration', 'fn_audio'])\n",
    "\n",
    "        df_scenes['fn_video_only'] = 'group' + df_scenes['group'] + '.mp4'\n",
    "        df_scenes['fn_video'] = 'group' + df_scenes['group'] + '-a.mp4'\n",
    "        # Following was used to solve non integer fps problem the conflicts with stanrdard\n",
    "        # Now we already use output parameter to work around.\n",
    "        #df_scenes['duration'] = df_scenes['duration'].apply(lambda x: int(np.ceil(float(x))))\n",
    "        df_scenes['fn_image_resized'] = 'resized-' + df_scenes['fn_image']\n",
    "        df_scenes['fn_audio_only'] = 'group' + df_scenes['group'] + '-audio.m4a'\n",
    "        # To avoid too short clips\n",
    "        df_scenes = df_scenes[df_scenes['duration'].apply(lambda x: float(x) > 0.1)]\n",
    "\n",
    "        self.df_sp_orged = df_sp_orged\n",
    "        self.df_scenes = df_scenes\n",
    "\n",
    "    def prepare_default_assets(self):\n",
    "        os.system('cp -f default/* .')\n",
    "\n",
    "    def images_to_videos(self, screen_size):\n",
    "        commands = []\n",
    "        for (i, r) in self.df_scenes.iterrows():\n",
    "            commands.append('convert {fn_image} -resize {screen_size} {fn_image_resized}'.format(screen_size=screen_size, **r))\n",
    "        self.execute_all(commands)\n",
    "        commands = []\n",
    "        for (i, r) in self.df_scenes.iterrows():\n",
    "            commands.append('ffmpeg -f image2 -r 1/{duration} -i {fn_image_resized} -qscale:v 1 -copyts -vcodec mpeg4 -y -r 25 {fn_video_only}'.format(**r))\n",
    "        self.execute_all(commands)\n",
    "\n",
    "    def videos_add_audio(self):\n",
    "        commands = []\n",
    "        for (i, r) in self.df_scenes.iterrows():\n",
    "            commands.append('cp {fn_audio} {fn_audio_only}'.format(**r))\n",
    "        self.execute_all(commands)\n",
    "        commands = []\n",
    "        for (i, r) in self.df_scenes.iterrows():\n",
    "            commands.append('ffmpeg -i {fn_video_only} -i {fn_audio} -qscale:v 1 -copyts -vcodec copy -acodec copy -y {fn_video}'.format(**r))\n",
    "            #commands.append('ffmpeg -i {fn_video_only} -i {fn_audio} -map 0:0 -map 1 -vcodec copy -acodec copy -y {fn_video}'.format(**r))\n",
    "        self.execute_all(commands)\n",
    "\n",
    "    def assemble_output(self, fn_output):\n",
    "        open('playlist.txt', 'w').write('\\n'.join(list(self.df_scenes['fn_video'].apply(lambda x: \"file '%s'\" % x))))\n",
    "        os.system('ffmpeg -f concat -i playlist.txt -c copy -y %s' % fn_output)\n",
    "\n",
    "    def convert(self, url, fn_output, rate=220, voice='Ting-Ting', screen_size='600x400!'):\n",
    "        self.get_screen_play(url)\n",
    "        self.get_png_images()\n",
    "        self.text_to_speech(rate, voice)\n",
    "        self.organise_scenes()\n",
    "        self.prepare_default_assets()\n",
    "        self.images_to_videos(screen_size)\n",
    "        self.videos_add_audio()\n",
    "        self.assemble_output(fn_output)\n"
   ]
  },
  {
   "cell_type": "code",
   "execution_count": 52,
   "metadata": {
    "collapsed": true
   },
   "outputs": [],
   "source": [
    "url='http://project.initiumlab.com/news2video/case1/index.html'\n",
    "url = 'https://theinitium.com/article/20151127-mainland-government-officials-suicide-map/'"
   ]
  },
  {
   "cell_type": "code",
   "execution_count": 53,
   "metadata": {
    "collapsed": false
   },
   "outputs": [
    {
     "data": {
      "text/html": [
       "<div>\n",
       "<table border=\"1\" class=\"dataframe\">\n",
       "  <thead>\n",
       "    <tr style=\"text-align: right;\">\n",
       "      <th></th>\n",
       "      <th>type</th>\n",
       "      <th>content</th>\n",
       "      <th>local_src</th>\n",
       "      <th>filename</th>\n",
       "      <th>extname</th>\n",
       "      <th>download_name</th>\n",
       "      <th>converted_name</th>\n",
       "    </tr>\n",
       "  </thead>\n",
       "  <tbody>\n",
       "    <tr>\n",
       "      <th>0</th>\n",
       "      <td>text</td>\n",
       "      <td></td>\n",
       "      <td>e3b0c44298fc1c14</td>\n",
       "      <td></td>\n",
       "      <td></td>\n",
       "      <td>e3b0c44298fc1c14</td>\n",
       "      <td>e3b0c44298fc1c14.png</td>\n",
       "    </tr>\n",
       "    <tr>\n",
       "      <th>1</th>\n",
       "      <td>image</td>\n",
       "      <td>https://d3rhr7kgmtrq1v.cloudfront.net/media/d4...</td>\n",
       "      <td>e900fabec7ee6e02</td>\n",
       "      <td>jpg</td>\n",
       "      <td></td>\n",
       "      <td>e900fabec7ee6e02</td>\n",
       "      <td>e900fabec7ee6e02.png</td>\n",
       "    </tr>\n",
       "    <tr>\n",
       "      <th>2</th>\n",
       "      <td>text</td>\n",
       "      <td>圖：端傳媒設計部  依據媒體公開報導，自2015年10月23日至11月23日，30天內，發...</td>\n",
       "      <td>2e4ed770b69aa2c3</td>\n",
       "      <td></td>\n",
       "      <td></td>\n",
       "      <td>2e4ed770b69aa2c3</td>\n",
       "      <td>2e4ed770b69aa2c3.png</td>\n",
       "    </tr>\n",
       "    <tr>\n",
       "      <th>3</th>\n",
       "      <td>image</td>\n",
       "      <td>https://d3rhr7kgmtrq1v.cloudfront.net/media/36...</td>\n",
       "      <td>9fdd97ae72c9ff1b</td>\n",
       "      <td>jpg</td>\n",
       "      <td></td>\n",
       "      <td>9fdd97ae72c9ff1b</td>\n",
       "      <td>9fdd97ae72c9ff1b.png</td>\n",
       "    </tr>\n",
       "    <tr>\n",
       "      <th>4</th>\n",
       "      <td>text</td>\n",
       "      <td>圖：端傳媒設計部  儘管如此，我們仍然能從這份不完全統計裏窺見一些規律。比如，被媒體報導的...</td>\n",
       "      <td>d4599df7083eb5fd</td>\n",
       "      <td></td>\n",
       "      <td></td>\n",
       "      <td>d4599df7083eb5fd</td>\n",
       "      <td>d4599df7083eb5fd.png</td>\n",
       "    </tr>\n",
       "    <tr>\n",
       "      <th>5</th>\n",
       "      <td>image</td>\n",
       "      <td>https://d3rhr7kgmtrq1v.cloudfront.net/media/21...</td>\n",
       "      <td>2f851004b480a4bc</td>\n",
       "      <td>jpg</td>\n",
       "      <td></td>\n",
       "      <td>2f851004b480a4bc</td>\n",
       "      <td>2f851004b480a4bc.png</td>\n",
       "    </tr>\n",
       "    <tr>\n",
       "      <th>6</th>\n",
       "      <td>text</td>\n",
       "      <td>圖：端傳媒設計部</td>\n",
       "      <td>04f567efa5d15822</td>\n",
       "      <td></td>\n",
       "      <td></td>\n",
       "      <td>04f567efa5d15822</td>\n",
       "      <td>04f567efa5d15822.png</td>\n",
       "    </tr>\n",
       "    <tr>\n",
       "      <th>7</th>\n",
       "      <td>image</td>\n",
       "      <td>https://d3rhr7kgmtrq1v.cloudfront.net/media/ed...</td>\n",
       "      <td>40ef9c5bfb693cf6</td>\n",
       "      <td>jpg</td>\n",
       "      <td></td>\n",
       "      <td>40ef9c5bfb693cf6</td>\n",
       "      <td>40ef9c5bfb693cf6.png</td>\n",
       "    </tr>\n",
       "    <tr>\n",
       "      <th>8</th>\n",
       "      <td>text</td>\n",
       "      <td>圖：端傳媒設計部  根據蒐集到的新聞報導顯示，40至60歲的官員是「非正常死亡」的「高危人...</td>\n",
       "      <td>e3a9683990511c32</td>\n",
       "      <td></td>\n",
       "      <td></td>\n",
       "      <td>e3a9683990511c32</td>\n",
       "      <td>e3a9683990511c32.png</td>\n",
       "    </tr>\n",
       "    <tr>\n",
       "      <th>9</th>\n",
       "      <td>image</td>\n",
       "      <td>https://d3rhr7kgmtrq1v.cloudfront.net/media/0f...</td>\n",
       "      <td>24d7a6edce2e8ea5</td>\n",
       "      <td>jpg</td>\n",
       "      <td></td>\n",
       "      <td>24d7a6edce2e8ea5</td>\n",
       "      <td>24d7a6edce2e8ea5.png</td>\n",
       "    </tr>\n",
       "    <tr>\n",
       "      <th>10</th>\n",
       "      <td>text</td>\n",
       "      <td>圖：端傳媒設計部</td>\n",
       "      <td>04f567efa5d15822</td>\n",
       "      <td></td>\n",
       "      <td></td>\n",
       "      <td>04f567efa5d15822</td>\n",
       "      <td>04f567efa5d15822.png</td>\n",
       "    </tr>\n",
       "    <tr>\n",
       "      <th>11</th>\n",
       "      <td>image</td>\n",
       "      <td>https://d3rhr7kgmtrq1v.cloudfront.net/media/fa...</td>\n",
       "      <td>971ae5ee810ce74c</td>\n",
       "      <td>jpg</td>\n",
       "      <td></td>\n",
       "      <td>971ae5ee810ce74c</td>\n",
       "      <td>971ae5ee810ce74c.png</td>\n",
       "    </tr>\n",
       "    <tr>\n",
       "      <th>12</th>\n",
       "      <td>text</td>\n",
       "      <td>圖：端傳媒設計部  值得追問的是，幾乎所有關於官員非正常死亡的新聞都是「有頭無尾」，缺少針...</td>\n",
       "      <td>44ab0f6994df4ad7</td>\n",
       "      <td></td>\n",
       "      <td></td>\n",
       "      <td>44ab0f6994df4ad7</td>\n",
       "      <td>44ab0f6994df4ad7.png</td>\n",
       "    </tr>\n",
       "  </tbody>\n",
       "</table>\n",
       "</div>"
      ],
      "text/plain": [
       "     type                                            content  \\\n",
       "0    text                                                      \n",
       "1   image  https://d3rhr7kgmtrq1v.cloudfront.net/media/d4...   \n",
       "2    text   圖：端傳媒設計部  依據媒體公開報導，自2015年10月23日至11月23日，30天內，發...   \n",
       "3   image  https://d3rhr7kgmtrq1v.cloudfront.net/media/36...   \n",
       "4    text   圖：端傳媒設計部  儘管如此，我們仍然能從這份不完全統計裏窺見一些規律。比如，被媒體報導的...   \n",
       "5   image  https://d3rhr7kgmtrq1v.cloudfront.net/media/21...   \n",
       "6    text                                          圖：端傳媒設計部    \n",
       "7   image  https://d3rhr7kgmtrq1v.cloudfront.net/media/ed...   \n",
       "8    text   圖：端傳媒設計部  根據蒐集到的新聞報導顯示，40至60歲的官員是「非正常死亡」的「高危人...   \n",
       "9   image  https://d3rhr7kgmtrq1v.cloudfront.net/media/0f...   \n",
       "10   text                                          圖：端傳媒設計部    \n",
       "11  image  https://d3rhr7kgmtrq1v.cloudfront.net/media/fa...   \n",
       "12   text   圖：端傳媒設計部  值得追問的是，幾乎所有關於官員非正常死亡的新聞都是「有頭無尾」，缺少針...   \n",
       "\n",
       "           local_src filename extname     download_name        converted_name  \n",
       "0   e3b0c44298fc1c14                   e3b0c44298fc1c14  e3b0c44298fc1c14.png  \n",
       "1   e900fabec7ee6e02      jpg          e900fabec7ee6e02  e900fabec7ee6e02.png  \n",
       "2   2e4ed770b69aa2c3                   2e4ed770b69aa2c3  2e4ed770b69aa2c3.png  \n",
       "3   9fdd97ae72c9ff1b      jpg          9fdd97ae72c9ff1b  9fdd97ae72c9ff1b.png  \n",
       "4   d4599df7083eb5fd                   d4599df7083eb5fd  d4599df7083eb5fd.png  \n",
       "5   2f851004b480a4bc      jpg          2f851004b480a4bc  2f851004b480a4bc.png  \n",
       "6   04f567efa5d15822                   04f567efa5d15822  04f567efa5d15822.png  \n",
       "7   40ef9c5bfb693cf6      jpg          40ef9c5bfb693cf6  40ef9c5bfb693cf6.png  \n",
       "8   e3a9683990511c32                   e3a9683990511c32  e3a9683990511c32.png  \n",
       "9   24d7a6edce2e8ea5      jpg          24d7a6edce2e8ea5  24d7a6edce2e8ea5.png  \n",
       "10  04f567efa5d15822                   04f567efa5d15822  04f567efa5d15822.png  \n",
       "11  971ae5ee810ce74c      jpg          971ae5ee810ce74c  971ae5ee810ce74c.png  \n",
       "12  44ab0f6994df4ad7                   44ab0f6994df4ad7  44ab0f6994df4ad7.png  "
      ]
     },
     "execution_count": 53,
     "metadata": {},
     "output_type": "execute_result"
    }
   ],
   "source": [
    "c = Converter()\n",
    "#c.convert(url, 'out.mp4')\n",
    "c.get_screen_play(url)"
   ]
  },
  {
   "cell_type": "code",
   "execution_count": 54,
   "metadata": {
    "collapsed": false
   },
   "outputs": [
    {
     "data": {
      "text/plain": [
       "'圖解中國官員非正常死亡，基層官員超過2/3 | 端傳媒 Initium Media'"
      ]
     },
     "execution_count": 54,
     "metadata": {},
     "output_type": "execute_result"
    }
   ],
   "source": [
    "c.readable_title"
   ]
  },
  {
   "cell_type": "code",
   "execution_count": 73,
   "metadata": {
    "collapsed": false
   },
   "outputs": [
    {
     "data": {
      "text/plain": [
       "0"
      ]
     },
     "execution_count": 73,
     "metadata": {},
     "output_type": "execute_result"
    }
   ],
   "source": [
    "os.system(\n",
    "    'say --output-file=title.m4a -v Ting-Ting --rate=180 --progress --file-format=m4af \"%s\"' % c.readable_title\n",
    ")\n",
    "os.system(\n",
    "    'avconv -i title.m4a -y title.wav'\n",
    ")"
   ]
  },
  {
   "cell_type": "code",
   "execution_count": 74,
   "metadata": {
    "collapsed": false
   },
   "outputs": [],
   "source": [
    "length = c.get_audio_length('title')"
   ]
  },
  {
   "cell_type": "code",
   "execution_count": 75,
   "metadata": {
    "collapsed": false
   },
   "outputs": [
    {
     "name": "stdout",
     "output_type": "stream",
     "text": [
      "['wget https://d3rhr7kgmtrq1v.cloudfront.net/media/d47a1245af8e4b818a1bd78ea0b82c23.jpg?imageView2/1/w/1080/h/720/format/jpg -O e900fabec7ee6e02', 'wget https://d3rhr7kgmtrq1v.cloudfront.net/media/365f3167248143e6aaf7444cc651b178.jpg?imageView2/1/w/1080/h/720/format/jpg -O 9fdd97ae72c9ff1b', 'wget https://d3rhr7kgmtrq1v.cloudfront.net/media/21b8d3a88f8047a7b414afb07520418a.jpg?imageView2/1/w/1080/h/720/format/jpg -O 2f851004b480a4bc', 'wget https://d3rhr7kgmtrq1v.cloudfront.net/media/ed1f7e0844ff4ef698a434ca1740996c.jpg?imageView2/1/w/1080/h/721/format/jpg -O 40ef9c5bfb693cf6', 'wget https://d3rhr7kgmtrq1v.cloudfront.net/media/0f93f762b76a4ae59764ec2a21f05d0b.jpg?imageView2/1/w/1080/h/720/format/jpg -O 24d7a6edce2e8ea5', 'wget https://d3rhr7kgmtrq1v.cloudfront.net/media/fad736b805154eceb3e03a86416737d6.jpg?imageView2/1/w/1080/h/720/format/jpg -O 971ae5ee810ce74c']\n",
      "['convert e900fabec7ee6e02 -geometry 600x400! e900fabec7ee6e02.png', 'convert 9fdd97ae72c9ff1b -geometry 600x400! 9fdd97ae72c9ff1b.png', 'convert 2f851004b480a4bc -geometry 600x400! 2f851004b480a4bc.png', 'convert 40ef9c5bfb693cf6 -geometry 600x400! 40ef9c5bfb693cf6.png', 'convert 24d7a6edce2e8ea5 -geometry 600x400! 24d7a6edce2e8ea5.png', 'convert 971ae5ee810ce74c -geometry 600x400! 971ae5ee810ce74c.png']\n"
     ]
    }
   ],
   "source": [
    "c.get_png_images()"
   ]
  },
  {
   "cell_type": "code",
   "execution_count": 76,
   "metadata": {
    "collapsed": false
   },
   "outputs": [],
   "source": [
    "df_images = c.df_screenplay[c.df_screenplay['type'] == 'image']\n",
    "os.system('rm -f image*.png')\n",
    "order=1\n",
    "for (i, r) in df_images.iterrows():\n",
    "    os.system('cp %s image%02d.png' % (r['converted_name'], order))\n",
    "    order += 1"
   ]
  },
  {
   "cell_type": "code",
   "execution_count": 77,
   "metadata": {
    "collapsed": false
   },
   "outputs": [
    {
     "data": {
      "text/plain": [
       "'7.801905'"
      ]
     },
     "execution_count": 77,
     "metadata": {},
     "output_type": "execute_result"
    }
   ],
   "source": [
    "length"
   ]
  },
  {
   "cell_type": "code",
   "execution_count": 78,
   "metadata": {
    "collapsed": false
   },
   "outputs": [],
   "source": [
    "per_image_length = 1.0 * float(length) / len(df_images)"
   ]
  },
  {
   "cell_type": "code",
   "execution_count": 79,
   "metadata": {
    "collapsed": false
   },
   "outputs": [
    {
     "data": {
      "text/plain": [
       "0"
      ]
     },
     "execution_count": 79,
     "metadata": {},
     "output_type": "execute_result"
    }
   ],
   "source": [
    "os.system('ffmpeg -f image2 -r 1/{length} -i image%02d.png -vcodec mpeg4 -r 25 -y movie.mp4'.format(length=per_image_length))"
   ]
  },
  {
   "cell_type": "code",
   "execution_count": 80,
   "metadata": {
    "collapsed": false
   },
   "outputs": [
    {
     "data": {
      "text/plain": [
       "0"
      ]
     },
     "execution_count": 80,
     "metadata": {},
     "output_type": "execute_result"
    }
   ],
   "source": [
    "os.system('ffmpeg -i movie.mp4 -i title.m4a -vcodec copy -acodec copy -y output.mp4')"
   ]
  },
  {
   "cell_type": "code",
   "execution_count": null,
   "metadata": {
    "collapsed": true
   },
   "outputs": [],
   "source": []
  },
  {
   "cell_type": "code",
   "execution_count": null,
   "metadata": {
    "collapsed": true
   },
   "outputs": [],
   "source": []
  }
 ],
 "metadata": {
  "kernelspec": {
   "display_name": "Python 3",
   "language": "python",
   "name": "python3"
  },
  "language_info": {
   "codemirror_mode": {
    "name": "ipython",
    "version": 3
   },
   "file_extension": ".py",
   "mimetype": "text/x-python",
   "name": "python",
   "nbconvert_exporter": "python",
   "pygments_lexer": "ipython3",
   "version": "3.5.0"
  }
 },
 "nbformat": 4,
 "nbformat_minor": 0
}
