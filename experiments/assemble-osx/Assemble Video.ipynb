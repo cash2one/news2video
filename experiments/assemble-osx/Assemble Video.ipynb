{
 "cells": [
  {
   "cell_type": "code",
   "execution_count": 1,
   "metadata": {
    "collapsed": true
   },
   "outputs": [],
   "source": [
    "from IPython.display import HTML"
   ]
  },
  {
   "cell_type": "code",
   "execution_count": 2,
   "metadata": {
    "collapsed": false
   },
   "outputs": [],
   "source": [
    "import requests\n"
   ]
  },
  {
   "cell_type": "code",
   "execution_count": 3,
   "metadata": {
    "collapsed": true
   },
   "outputs": [],
   "source": [
    "res = requests.get('http://project.initiumlab.com/news2video/case1/index.html')"
   ]
  },
  {
   "cell_type": "code",
   "execution_count": 4,
   "metadata": {
    "collapsed": false
   },
   "outputs": [],
   "source": [
    "html = res.content.decode('utf-8')"
   ]
  },
  {
   "cell_type": "code",
   "execution_count": 5,
   "metadata": {
    "collapsed": false
   },
   "outputs": [],
   "source": [
    "from readability.readability import Document\n",
    "readable_article = Document(html).summary()\n",
    "readable_title = Document(html).short_title()"
   ]
  },
  {
   "cell_type": "code",
   "execution_count": 6,
   "metadata": {
    "collapsed": false
   },
   "outputs": [
    {
     "data": {
      "text/plain": [
       "'<html><body><div><article id=\"main\">\\n\\n  <h1>Walk: A Boring Story</h1>\\n\\n  I\\'m going to tell you a boring story.\\n\\n  <img src=\"1.jpg\" alt=\"\"/>\\n  <p>\\n    This is the first step I move.\\n  </p>\\n\\n  <img src=\"2.jpg\" alt=\"\"/>\\n  <p>\\n    This is the second step I move.\\n  </p>\\n\\n  <img src=\"3.jpg\" alt=\"\"/>\\n  <p>\\n    This is the third step I move.\\n  </p>\\n\\n  <img src=\"4.jpg\" alt=\"\"/>\\n  <p>\\n    This is the fourth step I move.\\n  </p>\\n\\n  <img src=\"5.jpg\" alt=\"\"/>\\n  <p>\\n    This is the fifth step I move.\\n  </p>\\n\\n  <img src=\"6.jpg\" alt=\"\"/>\\n  <p>\\n    This is the sixth step I move.\\n  </p>\\n\\n  <img src=\"7.jpg\" alt=\"\"/>\\n  <p>\\n    This is the seventh step I move.\\n  </p>\\n\\n  <img src=\"8.jpg\" alt=\"\"/>\\n  <p>\\n    This is the eighth step I move.\\n  </p>\\n\\n  <img src=\"9.jpg\" alt=\"\"/>\\n  <p>\\n    This is the final step I move.\\n  </p>\\n\\n  <p>\\n    Thank you for reading this story.\\n  </p>\\n\\n</article>\\n\\n</div></body></html>'"
      ]
     },
     "execution_count": 6,
     "metadata": {},
     "output_type": "execute_result"
    }
   ],
   "source": [
    "readable_article"
   ]
  },
  {
   "cell_type": "code",
   "execution_count": 7,
   "metadata": {
    "collapsed": false
   },
   "outputs": [
    {
     "data": {
      "text/html": [
       "<html><body><div><article id=\"main\">\n",
       "\n",
       "  <h1>Walk: A Boring Story</h1>\n",
       "\n",
       "  I'm going to tell you a boring story.\n",
       "\n",
       "  <img src=\"1.jpg\" alt=\"\"/>\n",
       "  <p>\n",
       "    This is the first step I move.\n",
       "  </p>\n",
       "\n",
       "  <img src=\"2.jpg\" alt=\"\"/>\n",
       "  <p>\n",
       "    This is the second step I move.\n",
       "  </p>\n",
       "\n",
       "  <img src=\"3.jpg\" alt=\"\"/>\n",
       "  <p>\n",
       "    This is the third step I move.\n",
       "  </p>\n",
       "\n",
       "  <img src=\"4.jpg\" alt=\"\"/>\n",
       "  <p>\n",
       "    This is the fourth step I move.\n",
       "  </p>\n",
       "\n",
       "  <img src=\"5.jpg\" alt=\"\"/>\n",
       "  <p>\n",
       "    This is the fifth step I move.\n",
       "  </p>\n",
       "\n",
       "  <img src=\"6.jpg\" alt=\"\"/>\n",
       "  <p>\n",
       "    This is the sixth step I move.\n",
       "  </p>\n",
       "\n",
       "  <img src=\"7.jpg\" alt=\"\"/>\n",
       "  <p>\n",
       "    This is the seventh step I move.\n",
       "  </p>\n",
       "\n",
       "  <img src=\"8.jpg\" alt=\"\"/>\n",
       "  <p>\n",
       "    This is the eighth step I move.\n",
       "  </p>\n",
       "\n",
       "  <img src=\"9.jpg\" alt=\"\"/>\n",
       "  <p>\n",
       "    This is the final step I move.\n",
       "  </p>\n",
       "\n",
       "  <p>\n",
       "    Thank you for reading this story.\n",
       "  </p>\n",
       "\n",
       "</article>\n",
       "\n",
       "</div></body></html>"
      ],
      "text/plain": [
       "<IPython.core.display.HTML object>"
      ]
     },
     "execution_count": 7,
     "metadata": {},
     "output_type": "execute_result"
    }
   ],
   "source": [
    "HTML(readable_article)"
   ]
  },
  {
   "cell_type": "code",
   "execution_count": 8,
   "metadata": {
    "collapsed": false
   },
   "outputs": [
    {
     "name": "stdout",
     "output_type": "stream",
     "text": [
      "http://project.initiumlab.com/news2video/case1/index.html\n",
      "http://project.initiumlab.com/news2video/case1\n"
     ]
    }
   ],
   "source": [
    "from os import path\n",
    "base_url = path.dirname(res.request.url)\n",
    "print(res.request.url)\n",
    "print(base_url)"
   ]
  },
  {
   "cell_type": "code",
   "execution_count": 9,
   "metadata": {
    "collapsed": false
   },
   "outputs": [
    {
     "name": "stdout",
     "output_type": "stream",
     "text": [
      "Overwriting test.txt\n"
     ]
    }
   ],
   "source": [
    "%%file test.txt\n",
    "test"
   ]
  },
  {
   "cell_type": "code",
   "execution_count": 10,
   "metadata": {
    "collapsed": false
   },
   "outputs": [
    {
     "name": "stdout",
     "output_type": "stream",
     "text": [
      "# Walk: A Boring Story\n",
      "\n",
      "I'm going to tell you a boring story. ![](1.jpg)\n",
      "\n",
      "This is the first step I move.\n",
      "\n",
      "![](2.jpg)\n",
      "\n",
      "This is the second step I move.\n",
      "\n",
      "![](3.jpg)\n",
      "\n",
      "This is the third step I move.\n",
      "\n",
      "![](4.jpg)\n",
      "\n",
      "This is the fourth step I move.\n",
      "\n",
      "![](5.jpg)\n",
      "\n",
      "This is the fifth step I move.\n",
      "\n",
      "![](6.jpg)\n",
      "\n",
      "This is the sixth step I move.\n",
      "\n",
      "![](7.jpg)\n",
      "\n",
      "This is the seventh step I move.\n",
      "\n",
      "![](8.jpg)\n",
      "\n",
      "This is the eighth step I move.\n",
      "\n",
      "![](9.jpg)\n",
      "\n",
      "This is the final step I move.\n",
      "\n",
      "Thank you for reading this story.\n",
      "\n",
      "\n"
     ]
    }
   ],
   "source": [
    "import html2text\n",
    "print(html2text.html2text(readable_article))"
   ]
  },
  {
   "cell_type": "code",
   "execution_count": 11,
   "metadata": {
    "collapsed": true
   },
   "outputs": [],
   "source": [
    "from pyquery import PyQuery as pq"
   ]
  },
  {
   "cell_type": "code",
   "execution_count": 12,
   "metadata": {
    "collapsed": false
   },
   "outputs": [],
   "source": [
    "#r = pq(readable_article)\n",
    "#r('img').map(lambda i, e: pq(e).attr('src', '%s/%s' % (base_url, pq(e).attr('src'))))"
   ]
  },
  {
   "cell_type": "code",
   "execution_count": 13,
   "metadata": {
    "collapsed": false
   },
   "outputs": [],
   "source": [
    "#readable_article"
   ]
  },
  {
   "cell_type": "code",
   "execution_count": 14,
   "metadata": {
    "collapsed": false
   },
   "outputs": [],
   "source": [
    "from html.parser import HTMLParser\n",
    "#from HTMLParser import HTMLParser\n",
    "#from htmlentitydefs import name2codepoint\n",
    "\n",
    "class MyHTMLParser(HTMLParser):\n",
    "    def handle_starttag(self, tag, attrs):\n",
    "        print(\"Start tag:\", tag)\n",
    "        for attr in attrs:\n",
    "            print(\"     attr:\", attr)\n",
    "    def handle_endtag(self, tag):\n",
    "        print(\"End tag  :\", tag)\n",
    "    def handle_data(self, data):\n",
    "        print(\"Data     :\", data)\n",
    "    def handle_comment(self, data):\n",
    "        print(\"Comment  :\", data)\n",
    "    def handle_entityref(self, name):\n",
    "        #c = unichr(name2codepoint[name])\n",
    "        c = 'entity name should be here'\n",
    "        print(\"Named ent:\", c)\n",
    "    def handle_charref(self, name):\n",
    "        if name.startswith('x'):\n",
    "            c = unichr(int(name[1:], 16))\n",
    "        else:\n",
    "            c = unichr(int(name))\n",
    "        print(\"Num ent  :\", c)\n",
    "    def handle_decl(self, data):\n",
    "        print(\"Decl     :\", data)\n",
    "\n",
    "parser = MyHTMLParser()"
   ]
  },
  {
   "cell_type": "code",
   "execution_count": 15,
   "metadata": {
    "collapsed": false
   },
   "outputs": [
    {
     "name": "stdout",
     "output_type": "stream",
     "text": [
      "Start tag: html\n",
      "Start tag: body\n",
      "Start tag: div\n",
      "Start tag: article\n",
      "     attr: ('id', 'main')\n",
      "Data     : \n",
      "\n",
      "  \n",
      "Start tag: h1\n",
      "Data     : Walk: A Boring Story\n",
      "End tag  : h1\n",
      "Data     : \n",
      "\n",
      "  I'm going to tell you a boring story.\n",
      "\n",
      "  \n",
      "Start tag: img\n",
      "     attr: ('src', '1.jpg')\n",
      "     attr: ('alt', '')\n",
      "End tag  : img\n",
      "Data     : \n",
      "  \n",
      "Start tag: p\n",
      "Data     : \n",
      "    This is the first step I move.\n",
      "  \n",
      "End tag  : p\n",
      "Data     : \n",
      "\n",
      "  \n",
      "Start tag: img\n",
      "     attr: ('src', '2.jpg')\n",
      "     attr: ('alt', '')\n",
      "End tag  : img\n",
      "Data     : \n",
      "  \n",
      "Start tag: p\n",
      "Data     : \n",
      "    This is the second step I move.\n",
      "  \n",
      "End tag  : p\n",
      "Data     : \n",
      "\n",
      "  \n",
      "Start tag: img\n",
      "     attr: ('src', '3.jpg')\n",
      "     attr: ('alt', '')\n",
      "End tag  : img\n",
      "Data     : \n",
      "  \n",
      "Start tag: p\n",
      "Data     : \n",
      "    This is the third step I move.\n",
      "  \n",
      "End tag  : p\n",
      "Data     : \n",
      "\n",
      "  \n",
      "Start tag: img\n",
      "     attr: ('src', '4.jpg')\n",
      "     attr: ('alt', '')\n",
      "End tag  : img\n",
      "Data     : \n",
      "  \n",
      "Start tag: p\n",
      "Data     : \n",
      "    This is the fourth step I move.\n",
      "  \n",
      "End tag  : p\n",
      "Data     : \n",
      "\n",
      "  \n",
      "Start tag: img\n",
      "     attr: ('src', '5.jpg')\n",
      "     attr: ('alt', '')\n",
      "End tag  : img\n",
      "Data     : \n",
      "  \n",
      "Start tag: p\n",
      "Data     : \n",
      "    This is the fifth step I move.\n",
      "  \n",
      "End tag  : p\n",
      "Data     : \n",
      "\n",
      "  \n",
      "Start tag: img\n",
      "     attr: ('src', '6.jpg')\n",
      "     attr: ('alt', '')\n",
      "End tag  : img\n",
      "Data     : \n",
      "  \n",
      "Start tag: p\n",
      "Data     : \n",
      "    This is the sixth step I move.\n",
      "  \n",
      "End tag  : p\n",
      "Data     : \n",
      "\n",
      "  \n",
      "Start tag: img\n",
      "     attr: ('src', '7.jpg')\n",
      "     attr: ('alt', '')\n",
      "End tag  : img\n",
      "Data     : \n",
      "  \n",
      "Start tag: p\n",
      "Data     : \n",
      "    This is the seventh step I move.\n",
      "  \n",
      "End tag  : p\n",
      "Data     : \n",
      "\n",
      "  \n",
      "Start tag: img\n",
      "     attr: ('src', '8.jpg')\n",
      "     attr: ('alt', '')\n",
      "End tag  : img\n",
      "Data     : \n",
      "  \n",
      "Start tag: p\n",
      "Data     : \n",
      "    This is the eighth step I move.\n",
      "  \n",
      "End tag  : p\n",
      "Data     : \n",
      "\n",
      "  \n",
      "Start tag: img\n",
      "     attr: ('src', '9.jpg')\n",
      "     attr: ('alt', '')\n",
      "End tag  : img\n",
      "Data     : \n",
      "  \n",
      "Start tag: p\n",
      "Data     : \n",
      "    This is the final step I move.\n",
      "  \n",
      "End tag  : p\n",
      "Data     : \n",
      "\n",
      "  \n",
      "Start tag: p\n",
      "Data     : \n",
      "    Thank you for reading this story.\n",
      "  \n",
      "End tag  : p\n",
      "Data     : \n",
      "\n",
      "\n",
      "End tag  : article\n",
      "Data     : \n",
      "\n",
      "\n",
      "End tag  : div\n",
      "End tag  : body\n",
      "End tag  : html\n"
     ]
    }
   ],
   "source": [
    "parser.feed(readable_article)"
   ]
  },
  {
   "cell_type": "markdown",
   "metadata": {},
   "source": [
    "Remark: not easy to use"
   ]
  },
  {
   "cell_type": "code",
   "execution_count": 16,
   "metadata": {
    "collapsed": false
   },
   "outputs": [
    {
     "name": "stdout",
     "output_type": "stream",
     "text": [
      "[('text', \" Walk: A Boring Story  I'm going to tell you a boring story. \"), ('image', 'http://project.initiumlab.com/news2video/case1/1.jpg'), ('text', ' This is the first step I move. '), ('image', 'http://project.initiumlab.com/news2video/case1/2.jpg'), ('text', ' This is the second step I move. '), ('image', 'http://project.initiumlab.com/news2video/case1/3.jpg'), ('text', ' This is the third step I move. '), ('image', 'http://project.initiumlab.com/news2video/case1/4.jpg'), ('text', ' This is the fourth step I move. '), ('image', 'http://project.initiumlab.com/news2video/case1/5.jpg'), ('text', ' This is the fifth step I move. '), ('image', 'http://project.initiumlab.com/news2video/case1/6.jpg'), ('text', ' This is the sixth step I move. '), ('image', 'http://project.initiumlab.com/news2video/case1/7.jpg'), ('text', ' This is the seventh step I move. '), ('image', 'http://project.initiumlab.com/news2video/case1/8.jpg'), ('text', ' This is the eighth step I move. '), ('image', 'http://project.initiumlab.com/news2video/case1/9.jpg'), ('text', ' This is the final step I move.  Thank you for reading this story. ')]\n"
     ]
    }
   ],
   "source": [
    "# reference:\n",
    "# http://stackoverflow.com/questions/20590624/python-beautifulsoup-div-text-and-img-attributes-in-correct-order\n",
    "import bs4\n",
    "from bs4 import Tag, BeautifulSoup \n",
    "\n",
    "class Extractor(object):\n",
    "    def __init__(self):\n",
    "        self.cur_text = ''\n",
    "        self.result = []\n",
    "    \n",
    "    def recursive_extract_text_image(self, obj):\n",
    "        for child in obj.children:\n",
    "            if isinstance(child, Tag):\n",
    "                #result.append(child.get('alt', ''))\n",
    "                self.recursive_extract_text_image(child)\n",
    "                if child.name == 'img':\n",
    "                    self.result.append(('text', self.cur_text))\n",
    "                    self.cur_text = ''\n",
    "                    self.result.append(('image',\n",
    "                                   '%s/%s' % (base_url, child['src'])\n",
    "                                  ))\n",
    "            else:\n",
    "                if len(child.strip()) > 0:\n",
    "                    self.cur_text += ' ' + child.strip() + ' '\n",
    "\n",
    "    def html_to_asset_list(self, html):\n",
    "        bs_obj = BeautifulSoup(html, 'html.parser')\n",
    "        self.recursive_extract_text_image(bs_obj)\n",
    "        self.result.append(('text', self.cur_text))\n",
    "        return self.result\n",
    "\n",
    "result = Extractor().html_to_asset_list(readable_article)\n",
    "print(result)"
   ]
  },
  {
   "cell_type": "code",
   "execution_count": 17,
   "metadata": {
    "collapsed": true
   },
   "outputs": [],
   "source": [
    "import pandas as pd"
   ]
  },
  {
   "cell_type": "code",
   "execution_count": 18,
   "metadata": {
    "collapsed": false
   },
   "outputs": [],
   "source": [
    "df_screenplay = pd.DataFrame(result, columns=['type', 'content'])"
   ]
  },
  {
   "cell_type": "code",
   "execution_count": 19,
   "metadata": {
    "collapsed": false
   },
   "outputs": [],
   "source": [
    "import hashlib \n",
    "def string2hash(s):\n",
    "    m = hashlib.sha256()\n",
    "    m.update(s.encode('utf-8'))\n",
    "    return m.hexdigest()[:16]\n",
    "df_screenplay['local_src'] = df_screenplay['content'].apply(lambda x: string2hash(x))"
   ]
  },
  {
   "cell_type": "code",
   "execution_count": 20,
   "metadata": {
    "collapsed": false
   },
   "outputs": [
    {
     "data": {
      "text/html": [
       "<div>\n",
       "<table border=\"1\" class=\"dataframe\">\n",
       "  <thead>\n",
       "    <tr style=\"text-align: right;\">\n",
       "      <th></th>\n",
       "      <th>type</th>\n",
       "      <th>content</th>\n",
       "      <th>local_src</th>\n",
       "      <th>filename</th>\n",
       "      <th>extname</th>\n",
       "      <th>download_name</th>\n",
       "      <th>converted_name</th>\n",
       "    </tr>\n",
       "  </thead>\n",
       "  <tbody>\n",
       "    <tr>\n",
       "      <th>0</th>\n",
       "      <td>text</td>\n",
       "      <td>Walk: A Boring Story  I'm going to tell you a...</td>\n",
       "      <td>0b6f2772f708dd15</td>\n",
       "      <td></td>\n",
       "      <td></td>\n",
       "      <td>0b6f2772f708dd15</td>\n",
       "      <td>0b6f2772f708dd15.png</td>\n",
       "    </tr>\n",
       "    <tr>\n",
       "      <th>1</th>\n",
       "      <td>image</td>\n",
       "      <td>http://project.initiumlab.com/news2video/case1...</td>\n",
       "      <td>5bf67d1c0729bd50</td>\n",
       "      <td>1.jpg</td>\n",
       "      <td>.jpg</td>\n",
       "      <td>5bf67d1c0729bd50.jpg</td>\n",
       "      <td>5bf67d1c0729bd50.png</td>\n",
       "    </tr>\n",
       "    <tr>\n",
       "      <th>2</th>\n",
       "      <td>text</td>\n",
       "      <td>This is the first step I move.</td>\n",
       "      <td>e99d8b267c0f2b29</td>\n",
       "      <td></td>\n",
       "      <td></td>\n",
       "      <td>e99d8b267c0f2b29</td>\n",
       "      <td>e99d8b267c0f2b29.png</td>\n",
       "    </tr>\n",
       "    <tr>\n",
       "      <th>3</th>\n",
       "      <td>image</td>\n",
       "      <td>http://project.initiumlab.com/news2video/case1...</td>\n",
       "      <td>3a9e810ed3b010a4</td>\n",
       "      <td>2.jpg</td>\n",
       "      <td>.jpg</td>\n",
       "      <td>3a9e810ed3b010a4.jpg</td>\n",
       "      <td>3a9e810ed3b010a4.png</td>\n",
       "    </tr>\n",
       "    <tr>\n",
       "      <th>4</th>\n",
       "      <td>text</td>\n",
       "      <td>This is the second step I move.</td>\n",
       "      <td>07c025cc4e45e727</td>\n",
       "      <td></td>\n",
       "      <td></td>\n",
       "      <td>07c025cc4e45e727</td>\n",
       "      <td>07c025cc4e45e727.png</td>\n",
       "    </tr>\n",
       "    <tr>\n",
       "      <th>5</th>\n",
       "      <td>image</td>\n",
       "      <td>http://project.initiumlab.com/news2video/case1...</td>\n",
       "      <td>b30b2910be978147</td>\n",
       "      <td>3.jpg</td>\n",
       "      <td>.jpg</td>\n",
       "      <td>b30b2910be978147.jpg</td>\n",
       "      <td>b30b2910be978147.png</td>\n",
       "    </tr>\n",
       "    <tr>\n",
       "      <th>6</th>\n",
       "      <td>text</td>\n",
       "      <td>This is the third step I move.</td>\n",
       "      <td>b30a844bd7d16bd3</td>\n",
       "      <td></td>\n",
       "      <td></td>\n",
       "      <td>b30a844bd7d16bd3</td>\n",
       "      <td>b30a844bd7d16bd3.png</td>\n",
       "    </tr>\n",
       "    <tr>\n",
       "      <th>7</th>\n",
       "      <td>image</td>\n",
       "      <td>http://project.initiumlab.com/news2video/case1...</td>\n",
       "      <td>f7c4cc87ce36317c</td>\n",
       "      <td>4.jpg</td>\n",
       "      <td>.jpg</td>\n",
       "      <td>f7c4cc87ce36317c.jpg</td>\n",
       "      <td>f7c4cc87ce36317c.png</td>\n",
       "    </tr>\n",
       "    <tr>\n",
       "      <th>8</th>\n",
       "      <td>text</td>\n",
       "      <td>This is the fourth step I move.</td>\n",
       "      <td>f5329785a4ee9a50</td>\n",
       "      <td></td>\n",
       "      <td></td>\n",
       "      <td>f5329785a4ee9a50</td>\n",
       "      <td>f5329785a4ee9a50.png</td>\n",
       "    </tr>\n",
       "    <tr>\n",
       "      <th>9</th>\n",
       "      <td>image</td>\n",
       "      <td>http://project.initiumlab.com/news2video/case1...</td>\n",
       "      <td>bb32e45dfe24271c</td>\n",
       "      <td>5.jpg</td>\n",
       "      <td>.jpg</td>\n",
       "      <td>bb32e45dfe24271c.jpg</td>\n",
       "      <td>bb32e45dfe24271c.png</td>\n",
       "    </tr>\n",
       "    <tr>\n",
       "      <th>10</th>\n",
       "      <td>text</td>\n",
       "      <td>This is the fifth step I move.</td>\n",
       "      <td>ac1257d717ef7162</td>\n",
       "      <td></td>\n",
       "      <td></td>\n",
       "      <td>ac1257d717ef7162</td>\n",
       "      <td>ac1257d717ef7162.png</td>\n",
       "    </tr>\n",
       "    <tr>\n",
       "      <th>11</th>\n",
       "      <td>image</td>\n",
       "      <td>http://project.initiumlab.com/news2video/case1...</td>\n",
       "      <td>9126b1c656683fc7</td>\n",
       "      <td>6.jpg</td>\n",
       "      <td>.jpg</td>\n",
       "      <td>9126b1c656683fc7.jpg</td>\n",
       "      <td>9126b1c656683fc7.png</td>\n",
       "    </tr>\n",
       "    <tr>\n",
       "      <th>12</th>\n",
       "      <td>text</td>\n",
       "      <td>This is the sixth step I move.</td>\n",
       "      <td>7539841ff27fa2c9</td>\n",
       "      <td></td>\n",
       "      <td></td>\n",
       "      <td>7539841ff27fa2c9</td>\n",
       "      <td>7539841ff27fa2c9.png</td>\n",
       "    </tr>\n",
       "    <tr>\n",
       "      <th>13</th>\n",
       "      <td>image</td>\n",
       "      <td>http://project.initiumlab.com/news2video/case1...</td>\n",
       "      <td>41d9ad7a1b980e63</td>\n",
       "      <td>7.jpg</td>\n",
       "      <td>.jpg</td>\n",
       "      <td>41d9ad7a1b980e63.jpg</td>\n",
       "      <td>41d9ad7a1b980e63.png</td>\n",
       "    </tr>\n",
       "    <tr>\n",
       "      <th>14</th>\n",
       "      <td>text</td>\n",
       "      <td>This is the seventh step I move.</td>\n",
       "      <td>bc18b83623f6c7c4</td>\n",
       "      <td></td>\n",
       "      <td></td>\n",
       "      <td>bc18b83623f6c7c4</td>\n",
       "      <td>bc18b83623f6c7c4.png</td>\n",
       "    </tr>\n",
       "    <tr>\n",
       "      <th>15</th>\n",
       "      <td>image</td>\n",
       "      <td>http://project.initiumlab.com/news2video/case1...</td>\n",
       "      <td>50caf99e2383f614</td>\n",
       "      <td>8.jpg</td>\n",
       "      <td>.jpg</td>\n",
       "      <td>50caf99e2383f614.jpg</td>\n",
       "      <td>50caf99e2383f614.png</td>\n",
       "    </tr>\n",
       "    <tr>\n",
       "      <th>16</th>\n",
       "      <td>text</td>\n",
       "      <td>This is the eighth step I move.</td>\n",
       "      <td>8bd9c4d8f557bc46</td>\n",
       "      <td></td>\n",
       "      <td></td>\n",
       "      <td>8bd9c4d8f557bc46</td>\n",
       "      <td>8bd9c4d8f557bc46.png</td>\n",
       "    </tr>\n",
       "    <tr>\n",
       "      <th>17</th>\n",
       "      <td>image</td>\n",
       "      <td>http://project.initiumlab.com/news2video/case1...</td>\n",
       "      <td>f30c6fbc6875126a</td>\n",
       "      <td>9.jpg</td>\n",
       "      <td>.jpg</td>\n",
       "      <td>f30c6fbc6875126a.jpg</td>\n",
       "      <td>f30c6fbc6875126a.png</td>\n",
       "    </tr>\n",
       "    <tr>\n",
       "      <th>18</th>\n",
       "      <td>text</td>\n",
       "      <td>This is the final step I move.  Thank you for...</td>\n",
       "      <td>e446517dd3833069</td>\n",
       "      <td></td>\n",
       "      <td></td>\n",
       "      <td>e446517dd3833069</td>\n",
       "      <td>e446517dd3833069.png</td>\n",
       "    </tr>\n",
       "  </tbody>\n",
       "</table>\n",
       "</div>"
      ],
      "text/plain": [
       "     type                                            content  \\\n",
       "0    text   Walk: A Boring Story  I'm going to tell you a...   \n",
       "1   image  http://project.initiumlab.com/news2video/case1...   \n",
       "2    text                    This is the first step I move.    \n",
       "3   image  http://project.initiumlab.com/news2video/case1...   \n",
       "4    text                   This is the second step I move.    \n",
       "5   image  http://project.initiumlab.com/news2video/case1...   \n",
       "6    text                    This is the third step I move.    \n",
       "7   image  http://project.initiumlab.com/news2video/case1...   \n",
       "8    text                   This is the fourth step I move.    \n",
       "9   image  http://project.initiumlab.com/news2video/case1...   \n",
       "10   text                    This is the fifth step I move.    \n",
       "11  image  http://project.initiumlab.com/news2video/case1...   \n",
       "12   text                    This is the sixth step I move.    \n",
       "13  image  http://project.initiumlab.com/news2video/case1...   \n",
       "14   text                  This is the seventh step I move.    \n",
       "15  image  http://project.initiumlab.com/news2video/case1...   \n",
       "16   text                   This is the eighth step I move.    \n",
       "17  image  http://project.initiumlab.com/news2video/case1...   \n",
       "18   text   This is the final step I move.  Thank you for...   \n",
       "\n",
       "           local_src filename extname         download_name  \\\n",
       "0   0b6f2772f708dd15                       0b6f2772f708dd15   \n",
       "1   5bf67d1c0729bd50    1.jpg    .jpg  5bf67d1c0729bd50.jpg   \n",
       "2   e99d8b267c0f2b29                       e99d8b267c0f2b29   \n",
       "3   3a9e810ed3b010a4    2.jpg    .jpg  3a9e810ed3b010a4.jpg   \n",
       "4   07c025cc4e45e727                       07c025cc4e45e727   \n",
       "5   b30b2910be978147    3.jpg    .jpg  b30b2910be978147.jpg   \n",
       "6   b30a844bd7d16bd3                       b30a844bd7d16bd3   \n",
       "7   f7c4cc87ce36317c    4.jpg    .jpg  f7c4cc87ce36317c.jpg   \n",
       "8   f5329785a4ee9a50                       f5329785a4ee9a50   \n",
       "9   bb32e45dfe24271c    5.jpg    .jpg  bb32e45dfe24271c.jpg   \n",
       "10  ac1257d717ef7162                       ac1257d717ef7162   \n",
       "11  9126b1c656683fc7    6.jpg    .jpg  9126b1c656683fc7.jpg   \n",
       "12  7539841ff27fa2c9                       7539841ff27fa2c9   \n",
       "13  41d9ad7a1b980e63    7.jpg    .jpg  41d9ad7a1b980e63.jpg   \n",
       "14  bc18b83623f6c7c4                       bc18b83623f6c7c4   \n",
       "15  50caf99e2383f614    8.jpg    .jpg  50caf99e2383f614.jpg   \n",
       "16  8bd9c4d8f557bc46                       8bd9c4d8f557bc46   \n",
       "17  f30c6fbc6875126a    9.jpg    .jpg  f30c6fbc6875126a.jpg   \n",
       "18  e446517dd3833069                       e446517dd3833069   \n",
       "\n",
       "          converted_name  \n",
       "0   0b6f2772f708dd15.png  \n",
       "1   5bf67d1c0729bd50.png  \n",
       "2   e99d8b267c0f2b29.png  \n",
       "3   3a9e810ed3b010a4.png  \n",
       "4   07c025cc4e45e727.png  \n",
       "5   b30b2910be978147.png  \n",
       "6   b30a844bd7d16bd3.png  \n",
       "7   f7c4cc87ce36317c.png  \n",
       "8   f5329785a4ee9a50.png  \n",
       "9   bb32e45dfe24271c.png  \n",
       "10  ac1257d717ef7162.png  \n",
       "11  9126b1c656683fc7.png  \n",
       "12  7539841ff27fa2c9.png  \n",
       "13  41d9ad7a1b980e63.png  \n",
       "14  bc18b83623f6c7c4.png  \n",
       "15  50caf99e2383f614.png  \n",
       "16  8bd9c4d8f557bc46.png  \n",
       "17  f30c6fbc6875126a.png  \n",
       "18  e446517dd3833069.png  "
      ]
     },
     "execution_count": 20,
     "metadata": {},
     "output_type": "execute_result"
    }
   ],
   "source": [
    "image_selector = (df_screenplay['type'] == 'image')\n",
    "df_screenplay.loc[image_selector, 'filename'] = df_screenplay.loc[\n",
    "    image_selector, 'content'].apply(lambda x: path.basename(x))\n",
    "df_screenplay.loc[image_selector, 'extname'] = df_screenplay.loc[\n",
    "    image_selector, 'filename'].apply(lambda x: path.splitext(x)[1])\n",
    "df_screenplay = df_screenplay.fillna('')\n",
    "df_screenplay['download_name'] = df_screenplay['local_src'] + df_screenplay['extname']\n",
    "df_screenplay['converted_name'] = df_screenplay['local_src'] + '.png'\n",
    "df_screenplay"
   ]
  },
  {
   "cell_type": "code",
   "execution_count": 21,
   "metadata": {
    "collapsed": false
   },
   "outputs": [
    {
     "data": {
      "text/plain": [
       "['wget http://project.initiumlab.com/news2video/case1/1.jpg -O 5bf67d1c0729bd50.jpg',\n",
       " 'wget http://project.initiumlab.com/news2video/case1/2.jpg -O 3a9e810ed3b010a4.jpg',\n",
       " 'wget http://project.initiumlab.com/news2video/case1/3.jpg -O b30b2910be978147.jpg',\n",
       " 'wget http://project.initiumlab.com/news2video/case1/4.jpg -O f7c4cc87ce36317c.jpg',\n",
       " 'wget http://project.initiumlab.com/news2video/case1/5.jpg -O bb32e45dfe24271c.jpg',\n",
       " 'wget http://project.initiumlab.com/news2video/case1/6.jpg -O 9126b1c656683fc7.jpg',\n",
       " 'wget http://project.initiumlab.com/news2video/case1/7.jpg -O 41d9ad7a1b980e63.jpg',\n",
       " 'wget http://project.initiumlab.com/news2video/case1/8.jpg -O 50caf99e2383f614.jpg',\n",
       " 'wget http://project.initiumlab.com/news2video/case1/9.jpg -O f30c6fbc6875126a.jpg',\n",
       " 'convert 5bf67d1c0729bd50.jpg 5bf67d1c0729bd50.png',\n",
       " 'convert 3a9e810ed3b010a4.jpg 3a9e810ed3b010a4.png',\n",
       " 'convert b30b2910be978147.jpg b30b2910be978147.png',\n",
       " 'convert f7c4cc87ce36317c.jpg f7c4cc87ce36317c.png',\n",
       " 'convert bb32e45dfe24271c.jpg bb32e45dfe24271c.png',\n",
       " 'convert 9126b1c656683fc7.jpg 9126b1c656683fc7.png',\n",
       " 'convert 41d9ad7a1b980e63.jpg 41d9ad7a1b980e63.png',\n",
       " 'convert 50caf99e2383f614.jpg 50caf99e2383f614.png',\n",
       " 'convert f30c6fbc6875126a.jpg f30c6fbc6875126a.png']"
      ]
     },
     "execution_count": 21,
     "metadata": {},
     "output_type": "execute_result"
    }
   ],
   "source": [
    "commands = []\n",
    "for (i, r) in df_screenplay.iterrows():\n",
    "    if r['type'] == 'image':\n",
    "        commands.append('wget {content} -O {download_name}'.format(**r))\n",
    "        \n",
    "for (i, r) in df_screenplay.iterrows():\n",
    "    if r['type'] == 'image':\n",
    "        commands.append('convert {download_name} {converted_name}'.format(**r))\n",
    "commands"
   ]
  },
  {
   "cell_type": "code",
   "execution_count": 22,
   "metadata": {
    "collapsed": false
   },
   "outputs": [],
   "source": [
    "import os\n",
    "for c in commands:\n",
    "    os.system(c)"
   ]
  },
  {
   "cell_type": "code",
   "execution_count": 23,
   "metadata": {
    "collapsed": false
   },
   "outputs": [
    {
     "data": {
      "text/plain": [
       "['say --output-file=0b6f2772f708dd15.m4a --voice=daniel --rate=150 --progress --file-format=m4af \" Walk: A Boring Story  I\\'m going to tell you a boring story. \"',\n",
       " 'say --output-file=e99d8b267c0f2b29.m4a --voice=daniel --rate=150 --progress --file-format=m4af \" This is the first step I move. \"',\n",
       " 'say --output-file=07c025cc4e45e727.m4a --voice=daniel --rate=150 --progress --file-format=m4af \" This is the second step I move. \"',\n",
       " 'say --output-file=b30a844bd7d16bd3.m4a --voice=daniel --rate=150 --progress --file-format=m4af \" This is the third step I move. \"',\n",
       " 'say --output-file=f5329785a4ee9a50.m4a --voice=daniel --rate=150 --progress --file-format=m4af \" This is the fourth step I move. \"',\n",
       " 'say --output-file=ac1257d717ef7162.m4a --voice=daniel --rate=150 --progress --file-format=m4af \" This is the fifth step I move. \"',\n",
       " 'say --output-file=7539841ff27fa2c9.m4a --voice=daniel --rate=150 --progress --file-format=m4af \" This is the sixth step I move. \"',\n",
       " 'say --output-file=bc18b83623f6c7c4.m4a --voice=daniel --rate=150 --progress --file-format=m4af \" This is the seventh step I move. \"',\n",
       " 'say --output-file=8bd9c4d8f557bc46.m4a --voice=daniel --rate=150 --progress --file-format=m4af \" This is the eighth step I move. \"',\n",
       " 'say --output-file=e446517dd3833069.m4a --voice=daniel --rate=150 --progress --file-format=m4af \" This is the final step I move.  Thank you for reading this story. \"',\n",
       " 'avconv -i 0b6f2772f708dd15.m4a -y 0b6f2772f708dd15.wav',\n",
       " 'avconv -i e99d8b267c0f2b29.m4a -y e99d8b267c0f2b29.wav',\n",
       " 'avconv -i 07c025cc4e45e727.m4a -y 07c025cc4e45e727.wav',\n",
       " 'avconv -i b30a844bd7d16bd3.m4a -y b30a844bd7d16bd3.wav',\n",
       " 'avconv -i f5329785a4ee9a50.m4a -y f5329785a4ee9a50.wav',\n",
       " 'avconv -i ac1257d717ef7162.m4a -y ac1257d717ef7162.wav',\n",
       " 'avconv -i 7539841ff27fa2c9.m4a -y 7539841ff27fa2c9.wav',\n",
       " 'avconv -i bc18b83623f6c7c4.m4a -y bc18b83623f6c7c4.wav',\n",
       " 'avconv -i 8bd9c4d8f557bc46.m4a -y 8bd9c4d8f557bc46.wav',\n",
       " 'avconv -i e446517dd3833069.m4a -y e446517dd3833069.wav']"
      ]
     },
     "execution_count": 23,
     "metadata": {},
     "output_type": "execute_result"
    }
   ],
   "source": [
    "commands = []\n",
    "for (i, r) in df_screenplay.iterrows():\n",
    "    if r['type'] == 'text':\n",
    "        commands.append('say --output-file={local_src}.m4a --voice=daniel --rate=150 --progress --file-format=m4af \"{content}\"'.format(**r))\n",
    "for (i, r) in df_screenplay.iterrows():\n",
    "    if r['type'] == 'text':\n",
    "        commands.append('avconv -i {local_src}.m4a -y {local_src}.wav'.format(**r))\n",
    "commands"
   ]
  },
  {
   "cell_type": "code",
   "execution_count": 24,
   "metadata": {
    "collapsed": true
   },
   "outputs": [],
   "source": [
    "for c in commands:\n",
    "    os.system(c)"
   ]
  },
  {
   "cell_type": "code",
   "execution_count": 25,
   "metadata": {
    "collapsed": true
   },
   "outputs": [],
   "source": [
    "text_selector = (df_screenplay['type'] == 'text')"
   ]
  },
  {
   "cell_type": "code",
   "execution_count": 26,
   "metadata": {
    "collapsed": true
   },
   "outputs": [],
   "source": [
    "import sh"
   ]
  },
  {
   "cell_type": "code",
   "execution_count": 27,
   "metadata": {
    "collapsed": false
   },
   "outputs": [
    {
     "data": {
      "text/html": [
       "<div>\n",
       "<table border=\"1\" class=\"dataframe\">\n",
       "  <thead>\n",
       "    <tr style=\"text-align: right;\">\n",
       "      <th></th>\n",
       "      <th>type</th>\n",
       "      <th>content</th>\n",
       "      <th>local_src</th>\n",
       "      <th>filename</th>\n",
       "      <th>extname</th>\n",
       "      <th>download_name</th>\n",
       "      <th>converted_name</th>\n",
       "      <th>duration</th>\n",
       "    </tr>\n",
       "  </thead>\n",
       "  <tbody>\n",
       "    <tr>\n",
       "      <th>0</th>\n",
       "      <td>text</td>\n",
       "      <td>Walk: A Boring Story  I'm going to tell you a...</td>\n",
       "      <td>0b6f2772f708dd15</td>\n",
       "      <td></td>\n",
       "      <td></td>\n",
       "      <td>0b6f2772f708dd15</td>\n",
       "      <td>0b6f2772f708dd15.png</td>\n",
       "      <td>4.876190</td>\n",
       "    </tr>\n",
       "    <tr>\n",
       "      <th>1</th>\n",
       "      <td>image</td>\n",
       "      <td>http://project.initiumlab.com/news2video/case1...</td>\n",
       "      <td>5bf67d1c0729bd50</td>\n",
       "      <td>1.jpg</td>\n",
       "      <td>.jpg</td>\n",
       "      <td>5bf67d1c0729bd50.jpg</td>\n",
       "      <td>5bf67d1c0729bd50.png</td>\n",
       "      <td>NaN</td>\n",
       "    </tr>\n",
       "    <tr>\n",
       "      <th>2</th>\n",
       "      <td>text</td>\n",
       "      <td>This is the first step I move.</td>\n",
       "      <td>e99d8b267c0f2b29</td>\n",
       "      <td></td>\n",
       "      <td></td>\n",
       "      <td>e99d8b267c0f2b29</td>\n",
       "      <td>e99d8b267c0f2b29.png</td>\n",
       "      <td>2.461315</td>\n",
       "    </tr>\n",
       "    <tr>\n",
       "      <th>3</th>\n",
       "      <td>image</td>\n",
       "      <td>http://project.initiumlab.com/news2video/case1...</td>\n",
       "      <td>3a9e810ed3b010a4</td>\n",
       "      <td>2.jpg</td>\n",
       "      <td>.jpg</td>\n",
       "      <td>3a9e810ed3b010a4.jpg</td>\n",
       "      <td>3a9e810ed3b010a4.png</td>\n",
       "      <td>NaN</td>\n",
       "    </tr>\n",
       "    <tr>\n",
       "      <th>4</th>\n",
       "      <td>text</td>\n",
       "      <td>This is the second step I move.</td>\n",
       "      <td>07c025cc4e45e727</td>\n",
       "      <td></td>\n",
       "      <td></td>\n",
       "      <td>07c025cc4e45e727</td>\n",
       "      <td>07c025cc4e45e727.png</td>\n",
       "      <td>2.507755</td>\n",
       "    </tr>\n",
       "    <tr>\n",
       "      <th>5</th>\n",
       "      <td>image</td>\n",
       "      <td>http://project.initiumlab.com/news2video/case1...</td>\n",
       "      <td>b30b2910be978147</td>\n",
       "      <td>3.jpg</td>\n",
       "      <td>.jpg</td>\n",
       "      <td>b30b2910be978147.jpg</td>\n",
       "      <td>b30b2910be978147.png</td>\n",
       "      <td>NaN</td>\n",
       "    </tr>\n",
       "    <tr>\n",
       "      <th>6</th>\n",
       "      <td>text</td>\n",
       "      <td>This is the third step I move.</td>\n",
       "      <td>b30a844bd7d16bd3</td>\n",
       "      <td></td>\n",
       "      <td></td>\n",
       "      <td>b30a844bd7d16bd3</td>\n",
       "      <td>b30a844bd7d16bd3.png</td>\n",
       "      <td>2.414875</td>\n",
       "    </tr>\n",
       "    <tr>\n",
       "      <th>7</th>\n",
       "      <td>image</td>\n",
       "      <td>http://project.initiumlab.com/news2video/case1...</td>\n",
       "      <td>f7c4cc87ce36317c</td>\n",
       "      <td>4.jpg</td>\n",
       "      <td>.jpg</td>\n",
       "      <td>f7c4cc87ce36317c.jpg</td>\n",
       "      <td>f7c4cc87ce36317c.png</td>\n",
       "      <td>NaN</td>\n",
       "    </tr>\n",
       "    <tr>\n",
       "      <th>8</th>\n",
       "      <td>text</td>\n",
       "      <td>This is the fourth step I move.</td>\n",
       "      <td>f5329785a4ee9a50</td>\n",
       "      <td></td>\n",
       "      <td></td>\n",
       "      <td>f5329785a4ee9a50</td>\n",
       "      <td>f5329785a4ee9a50.png</td>\n",
       "      <td>2.414875</td>\n",
       "    </tr>\n",
       "    <tr>\n",
       "      <th>9</th>\n",
       "      <td>image</td>\n",
       "      <td>http://project.initiumlab.com/news2video/case1...</td>\n",
       "      <td>bb32e45dfe24271c</td>\n",
       "      <td>5.jpg</td>\n",
       "      <td>.jpg</td>\n",
       "      <td>bb32e45dfe24271c.jpg</td>\n",
       "      <td>bb32e45dfe24271c.png</td>\n",
       "      <td>NaN</td>\n",
       "    </tr>\n",
       "    <tr>\n",
       "      <th>10</th>\n",
       "      <td>text</td>\n",
       "      <td>This is the fifth step I move.</td>\n",
       "      <td>ac1257d717ef7162</td>\n",
       "      <td></td>\n",
       "      <td></td>\n",
       "      <td>ac1257d717ef7162</td>\n",
       "      <td>ac1257d717ef7162.png</td>\n",
       "      <td>2.461315</td>\n",
       "    </tr>\n",
       "    <tr>\n",
       "      <th>11</th>\n",
       "      <td>image</td>\n",
       "      <td>http://project.initiumlab.com/news2video/case1...</td>\n",
       "      <td>9126b1c656683fc7</td>\n",
       "      <td>6.jpg</td>\n",
       "      <td>.jpg</td>\n",
       "      <td>9126b1c656683fc7.jpg</td>\n",
       "      <td>9126b1c656683fc7.png</td>\n",
       "      <td>NaN</td>\n",
       "    </tr>\n",
       "    <tr>\n",
       "      <th>12</th>\n",
       "      <td>text</td>\n",
       "      <td>This is the sixth step I move.</td>\n",
       "      <td>7539841ff27fa2c9</td>\n",
       "      <td></td>\n",
       "      <td></td>\n",
       "      <td>7539841ff27fa2c9</td>\n",
       "      <td>7539841ff27fa2c9.png</td>\n",
       "      <td>2.507755</td>\n",
       "    </tr>\n",
       "    <tr>\n",
       "      <th>13</th>\n",
       "      <td>image</td>\n",
       "      <td>http://project.initiumlab.com/news2video/case1...</td>\n",
       "      <td>41d9ad7a1b980e63</td>\n",
       "      <td>7.jpg</td>\n",
       "      <td>.jpg</td>\n",
       "      <td>41d9ad7a1b980e63.jpg</td>\n",
       "      <td>41d9ad7a1b980e63.png</td>\n",
       "      <td>NaN</td>\n",
       "    </tr>\n",
       "    <tr>\n",
       "      <th>14</th>\n",
       "      <td>text</td>\n",
       "      <td>This is the seventh step I move.</td>\n",
       "      <td>bc18b83623f6c7c4</td>\n",
       "      <td></td>\n",
       "      <td></td>\n",
       "      <td>bc18b83623f6c7c4</td>\n",
       "      <td>bc18b83623f6c7c4.png</td>\n",
       "      <td>2.554195</td>\n",
       "    </tr>\n",
       "    <tr>\n",
       "      <th>15</th>\n",
       "      <td>image</td>\n",
       "      <td>http://project.initiumlab.com/news2video/case1...</td>\n",
       "      <td>50caf99e2383f614</td>\n",
       "      <td>8.jpg</td>\n",
       "      <td>.jpg</td>\n",
       "      <td>50caf99e2383f614.jpg</td>\n",
       "      <td>50caf99e2383f614.png</td>\n",
       "      <td>NaN</td>\n",
       "    </tr>\n",
       "    <tr>\n",
       "      <th>16</th>\n",
       "      <td>text</td>\n",
       "      <td>This is the eighth step I move.</td>\n",
       "      <td>8bd9c4d8f557bc46</td>\n",
       "      <td></td>\n",
       "      <td></td>\n",
       "      <td>8bd9c4d8f557bc46</td>\n",
       "      <td>8bd9c4d8f557bc46.png</td>\n",
       "      <td>2.368435</td>\n",
       "    </tr>\n",
       "    <tr>\n",
       "      <th>17</th>\n",
       "      <td>image</td>\n",
       "      <td>http://project.initiumlab.com/news2video/case1...</td>\n",
       "      <td>f30c6fbc6875126a</td>\n",
       "      <td>9.jpg</td>\n",
       "      <td>.jpg</td>\n",
       "      <td>f30c6fbc6875126a.jpg</td>\n",
       "      <td>f30c6fbc6875126a.png</td>\n",
       "      <td>NaN</td>\n",
       "    </tr>\n",
       "    <tr>\n",
       "      <th>18</th>\n",
       "      <td>text</td>\n",
       "      <td>This is the final step I move.  Thank you for...</td>\n",
       "      <td>e446517dd3833069</td>\n",
       "      <td></td>\n",
       "      <td></td>\n",
       "      <td>e446517dd3833069</td>\n",
       "      <td>e446517dd3833069.png</td>\n",
       "      <td>4.783311</td>\n",
       "    </tr>\n",
       "  </tbody>\n",
       "</table>\n",
       "</div>"
      ],
      "text/plain": [
       "     type                                            content  \\\n",
       "0    text   Walk: A Boring Story  I'm going to tell you a...   \n",
       "1   image  http://project.initiumlab.com/news2video/case1...   \n",
       "2    text                    This is the first step I move.    \n",
       "3   image  http://project.initiumlab.com/news2video/case1...   \n",
       "4    text                   This is the second step I move.    \n",
       "5   image  http://project.initiumlab.com/news2video/case1...   \n",
       "6    text                    This is the third step I move.    \n",
       "7   image  http://project.initiumlab.com/news2video/case1...   \n",
       "8    text                   This is the fourth step I move.    \n",
       "9   image  http://project.initiumlab.com/news2video/case1...   \n",
       "10   text                    This is the fifth step I move.    \n",
       "11  image  http://project.initiumlab.com/news2video/case1...   \n",
       "12   text                    This is the sixth step I move.    \n",
       "13  image  http://project.initiumlab.com/news2video/case1...   \n",
       "14   text                  This is the seventh step I move.    \n",
       "15  image  http://project.initiumlab.com/news2video/case1...   \n",
       "16   text                   This is the eighth step I move.    \n",
       "17  image  http://project.initiumlab.com/news2video/case1...   \n",
       "18   text   This is the final step I move.  Thank you for...   \n",
       "\n",
       "           local_src filename extname         download_name  \\\n",
       "0   0b6f2772f708dd15                       0b6f2772f708dd15   \n",
       "1   5bf67d1c0729bd50    1.jpg    .jpg  5bf67d1c0729bd50.jpg   \n",
       "2   e99d8b267c0f2b29                       e99d8b267c0f2b29   \n",
       "3   3a9e810ed3b010a4    2.jpg    .jpg  3a9e810ed3b010a4.jpg   \n",
       "4   07c025cc4e45e727                       07c025cc4e45e727   \n",
       "5   b30b2910be978147    3.jpg    .jpg  b30b2910be978147.jpg   \n",
       "6   b30a844bd7d16bd3                       b30a844bd7d16bd3   \n",
       "7   f7c4cc87ce36317c    4.jpg    .jpg  f7c4cc87ce36317c.jpg   \n",
       "8   f5329785a4ee9a50                       f5329785a4ee9a50   \n",
       "9   bb32e45dfe24271c    5.jpg    .jpg  bb32e45dfe24271c.jpg   \n",
       "10  ac1257d717ef7162                       ac1257d717ef7162   \n",
       "11  9126b1c656683fc7    6.jpg    .jpg  9126b1c656683fc7.jpg   \n",
       "12  7539841ff27fa2c9                       7539841ff27fa2c9   \n",
       "13  41d9ad7a1b980e63    7.jpg    .jpg  41d9ad7a1b980e63.jpg   \n",
       "14  bc18b83623f6c7c4                       bc18b83623f6c7c4   \n",
       "15  50caf99e2383f614    8.jpg    .jpg  50caf99e2383f614.jpg   \n",
       "16  8bd9c4d8f557bc46                       8bd9c4d8f557bc46   \n",
       "17  f30c6fbc6875126a    9.jpg    .jpg  f30c6fbc6875126a.jpg   \n",
       "18  e446517dd3833069                       e446517dd3833069   \n",
       "\n",
       "          converted_name  duration  \n",
       "0   0b6f2772f708dd15.png  4.876190  \n",
       "1   5bf67d1c0729bd50.png       NaN  \n",
       "2   e99d8b267c0f2b29.png  2.461315  \n",
       "3   3a9e810ed3b010a4.png       NaN  \n",
       "4   07c025cc4e45e727.png  2.507755  \n",
       "5   b30b2910be978147.png       NaN  \n",
       "6   b30a844bd7d16bd3.png  2.414875  \n",
       "7   f7c4cc87ce36317c.png       NaN  \n",
       "8   f5329785a4ee9a50.png  2.414875  \n",
       "9   bb32e45dfe24271c.png       NaN  \n",
       "10  ac1257d717ef7162.png  2.461315  \n",
       "11  9126b1c656683fc7.png       NaN  \n",
       "12  7539841ff27fa2c9.png  2.507755  \n",
       "13  41d9ad7a1b980e63.png       NaN  \n",
       "14  bc18b83623f6c7c4.png  2.554195  \n",
       "15  50caf99e2383f614.png       NaN  \n",
       "16  8bd9c4d8f557bc46.png  2.368435  \n",
       "17  f30c6fbc6875126a.png       NaN  \n",
       "18  e446517dd3833069.png  4.783311  "
      ]
     },
     "execution_count": 27,
     "metadata": {},
     "output_type": "execute_result"
    }
   ],
   "source": [
    "def get_audio_length(local_src):\n",
    "    filename = local_src + '.wav'\n",
    "    # Caveats: can only deal with < 60s audios\n",
    "    # | grep Duration | cut -f1 -d, | cut -f4 -d:\n",
    "    seconds = sh.soxi('-D', filename)\n",
    "    return seconds.strip()\n",
    "    \n",
    "df_screenplay.loc[text_selector, 'duration'] = df_screenplay.loc[text_selector, 'local_src'].apply(get_audio_length)\n",
    "df_screenplay"
   ]
  },
  {
   "cell_type": "code",
   "execution_count": 28,
   "metadata": {
    "collapsed": false
   },
   "outputs": [
    {
     "data": {
      "text/plain": [
       "5.0"
      ]
     },
     "execution_count": 28,
     "metadata": {},
     "output_type": "execute_result"
    }
   ],
   "source": [
    "import numpy as np\n",
    "np.ceil(4.8)"
   ]
  },
  {
   "cell_type": "code",
   "execution_count": 29,
   "metadata": {
    "collapsed": false
   },
   "outputs": [
    {
     "data": {
      "text/html": [
       "<div>\n",
       "<table border=\"1\" class=\"dataframe\">\n",
       "  <thead>\n",
       "    <tr style=\"text-align: right;\">\n",
       "      <th></th>\n",
       "      <th>group</th>\n",
       "      <th>fn_image</th>\n",
       "      <th>duration</th>\n",
       "      <th>fn_audio</th>\n",
       "    </tr>\n",
       "  </thead>\n",
       "  <tbody>\n",
       "    <tr>\n",
       "      <th>0</th>\n",
       "      <td>0000</td>\n",
       "      <td>default-image.png</td>\n",
       "      <td>4.876190</td>\n",
       "      <td>0b6f2772f708dd15.m4a</td>\n",
       "    </tr>\n",
       "    <tr>\n",
       "      <th>1</th>\n",
       "      <td>0001</td>\n",
       "      <td>5bf67d1c0729bd50.png</td>\n",
       "      <td>2.461315</td>\n",
       "      <td>e99d8b267c0f2b29.m4a</td>\n",
       "    </tr>\n",
       "    <tr>\n",
       "      <th>2</th>\n",
       "      <td>0002</td>\n",
       "      <td>3a9e810ed3b010a4.png</td>\n",
       "      <td>2.507755</td>\n",
       "      <td>07c025cc4e45e727.m4a</td>\n",
       "    </tr>\n",
       "    <tr>\n",
       "      <th>3</th>\n",
       "      <td>0003</td>\n",
       "      <td>b30b2910be978147.png</td>\n",
       "      <td>2.414875</td>\n",
       "      <td>b30a844bd7d16bd3.m4a</td>\n",
       "    </tr>\n",
       "    <tr>\n",
       "      <th>4</th>\n",
       "      <td>0004</td>\n",
       "      <td>f7c4cc87ce36317c.png</td>\n",
       "      <td>2.414875</td>\n",
       "      <td>f5329785a4ee9a50.m4a</td>\n",
       "    </tr>\n",
       "    <tr>\n",
       "      <th>5</th>\n",
       "      <td>0005</td>\n",
       "      <td>bb32e45dfe24271c.png</td>\n",
       "      <td>2.461315</td>\n",
       "      <td>ac1257d717ef7162.m4a</td>\n",
       "    </tr>\n",
       "    <tr>\n",
       "      <th>6</th>\n",
       "      <td>0006</td>\n",
       "      <td>9126b1c656683fc7.png</td>\n",
       "      <td>2.507755</td>\n",
       "      <td>7539841ff27fa2c9.m4a</td>\n",
       "    </tr>\n",
       "    <tr>\n",
       "      <th>7</th>\n",
       "      <td>0007</td>\n",
       "      <td>41d9ad7a1b980e63.png</td>\n",
       "      <td>2.554195</td>\n",
       "      <td>bc18b83623f6c7c4.m4a</td>\n",
       "    </tr>\n",
       "    <tr>\n",
       "      <th>8</th>\n",
       "      <td>0008</td>\n",
       "      <td>50caf99e2383f614.png</td>\n",
       "      <td>2.368435</td>\n",
       "      <td>8bd9c4d8f557bc46.m4a</td>\n",
       "    </tr>\n",
       "    <tr>\n",
       "      <th>9</th>\n",
       "      <td>0009</td>\n",
       "      <td>f30c6fbc6875126a.png</td>\n",
       "      <td>4.783311</td>\n",
       "      <td>e446517dd3833069.m4a</td>\n",
       "    </tr>\n",
       "  </tbody>\n",
       "</table>\n",
       "</div>"
      ],
      "text/plain": [
       "  group              fn_image  duration              fn_audio\n",
       "0  0000     default-image.png  4.876190  0b6f2772f708dd15.m4a\n",
       "1  0001  5bf67d1c0729bd50.png  2.461315  e99d8b267c0f2b29.m4a\n",
       "2  0002  3a9e810ed3b010a4.png  2.507755  07c025cc4e45e727.m4a\n",
       "3  0003  b30b2910be978147.png  2.414875  b30a844bd7d16bd3.m4a\n",
       "4  0004  f7c4cc87ce36317c.png  2.414875  f5329785a4ee9a50.m4a\n",
       "5  0005  bb32e45dfe24271c.png  2.461315  ac1257d717ef7162.m4a\n",
       "6  0006  9126b1c656683fc7.png  2.507755  7539841ff27fa2c9.m4a\n",
       "7  0007  41d9ad7a1b980e63.png  2.554195  bc18b83623f6c7c4.m4a\n",
       "8  0008  50caf99e2383f614.png  2.368435  8bd9c4d8f557bc46.m4a\n",
       "9  0009  f30c6fbc6875126a.png  4.783311  e446517dd3833069.m4a"
      ]
     },
     "execution_count": 29,
     "metadata": {},
     "output_type": "execute_result"
    }
   ],
   "source": [
    "scenes = []\n",
    "df_sp_orged = df_screenplay.reset_index()\n",
    "df_sp_orged['group'] = df_sp_orged['index'].apply(lambda x: int((x + 1) / 2))\n",
    "for (gname, group) in df_sp_orged.groupby('group'):\n",
    "    if len(group[group['type'] == 'image']) == 0:\n",
    "        fn_image = 'default-image.png'\n",
    "    else:\n",
    "        fn_image = group[group['type'] == 'image']['converted_name'].values[0]\n",
    "        \n",
    "    if len(group[group['type'] == 'text']) == 0:\n",
    "        duration = 1.53\n",
    "        fn_audio = 'default-audio.mp4'\n",
    "    else:\n",
    "        duration = group[group['type'] == 'text']['duration'].values[0]\n",
    "        fn_audio = group[group['type'] == 'text']['local_src'].values[0] + '.m4a'\n",
    "        \n",
    "    scenes.append(('%04d' % gname, fn_image, duration, fn_audio))\n",
    "\n",
    "df_scenes = pd.DataFrame(scenes, columns=['group', 'fn_image', 'duration', 'fn_audio'])\n",
    "df_scenes"
   ]
  },
  {
   "cell_type": "code",
   "execution_count": 30,
   "metadata": {
    "collapsed": false
   },
   "outputs": [],
   "source": [
    "%%bash\n",
    "cp default/* ."
   ]
  },
  {
   "cell_type": "code",
   "execution_count": 31,
   "metadata": {
    "collapsed": false
   },
   "outputs": [
    {
     "data": {
      "text/html": [
       "<div>\n",
       "<table border=\"1\" class=\"dataframe\">\n",
       "  <thead>\n",
       "    <tr style=\"text-align: right;\">\n",
       "      <th></th>\n",
       "      <th>group</th>\n",
       "      <th>fn_image</th>\n",
       "      <th>duration</th>\n",
       "      <th>fn_audio</th>\n",
       "      <th>fn_video_only</th>\n",
       "      <th>fn_video</th>\n",
       "      <th>fn_image_resized</th>\n",
       "      <th>fn_audio_only</th>\n",
       "    </tr>\n",
       "  </thead>\n",
       "  <tbody>\n",
       "    <tr>\n",
       "      <th>0</th>\n",
       "      <td>0000</td>\n",
       "      <td>default-image.png</td>\n",
       "      <td>4.876190</td>\n",
       "      <td>0b6f2772f708dd15.m4a</td>\n",
       "      <td>group0000.mp4</td>\n",
       "      <td>group0000-a.mp4</td>\n",
       "      <td>resized-default-image.png</td>\n",
       "      <td>group0000-audio.m4a</td>\n",
       "    </tr>\n",
       "    <tr>\n",
       "      <th>1</th>\n",
       "      <td>0001</td>\n",
       "      <td>5bf67d1c0729bd50.png</td>\n",
       "      <td>2.461315</td>\n",
       "      <td>e99d8b267c0f2b29.m4a</td>\n",
       "      <td>group0001.mp4</td>\n",
       "      <td>group0001-a.mp4</td>\n",
       "      <td>resized-5bf67d1c0729bd50.png</td>\n",
       "      <td>group0001-audio.m4a</td>\n",
       "    </tr>\n",
       "    <tr>\n",
       "      <th>2</th>\n",
       "      <td>0002</td>\n",
       "      <td>3a9e810ed3b010a4.png</td>\n",
       "      <td>2.507755</td>\n",
       "      <td>07c025cc4e45e727.m4a</td>\n",
       "      <td>group0002.mp4</td>\n",
       "      <td>group0002-a.mp4</td>\n",
       "      <td>resized-3a9e810ed3b010a4.png</td>\n",
       "      <td>group0002-audio.m4a</td>\n",
       "    </tr>\n",
       "    <tr>\n",
       "      <th>3</th>\n",
       "      <td>0003</td>\n",
       "      <td>b30b2910be978147.png</td>\n",
       "      <td>2.414875</td>\n",
       "      <td>b30a844bd7d16bd3.m4a</td>\n",
       "      <td>group0003.mp4</td>\n",
       "      <td>group0003-a.mp4</td>\n",
       "      <td>resized-b30b2910be978147.png</td>\n",
       "      <td>group0003-audio.m4a</td>\n",
       "    </tr>\n",
       "    <tr>\n",
       "      <th>4</th>\n",
       "      <td>0004</td>\n",
       "      <td>f7c4cc87ce36317c.png</td>\n",
       "      <td>2.414875</td>\n",
       "      <td>f5329785a4ee9a50.m4a</td>\n",
       "      <td>group0004.mp4</td>\n",
       "      <td>group0004-a.mp4</td>\n",
       "      <td>resized-f7c4cc87ce36317c.png</td>\n",
       "      <td>group0004-audio.m4a</td>\n",
       "    </tr>\n",
       "    <tr>\n",
       "      <th>5</th>\n",
       "      <td>0005</td>\n",
       "      <td>bb32e45dfe24271c.png</td>\n",
       "      <td>2.461315</td>\n",
       "      <td>ac1257d717ef7162.m4a</td>\n",
       "      <td>group0005.mp4</td>\n",
       "      <td>group0005-a.mp4</td>\n",
       "      <td>resized-bb32e45dfe24271c.png</td>\n",
       "      <td>group0005-audio.m4a</td>\n",
       "    </tr>\n",
       "    <tr>\n",
       "      <th>6</th>\n",
       "      <td>0006</td>\n",
       "      <td>9126b1c656683fc7.png</td>\n",
       "      <td>2.507755</td>\n",
       "      <td>7539841ff27fa2c9.m4a</td>\n",
       "      <td>group0006.mp4</td>\n",
       "      <td>group0006-a.mp4</td>\n",
       "      <td>resized-9126b1c656683fc7.png</td>\n",
       "      <td>group0006-audio.m4a</td>\n",
       "    </tr>\n",
       "    <tr>\n",
       "      <th>7</th>\n",
       "      <td>0007</td>\n",
       "      <td>41d9ad7a1b980e63.png</td>\n",
       "      <td>2.554195</td>\n",
       "      <td>bc18b83623f6c7c4.m4a</td>\n",
       "      <td>group0007.mp4</td>\n",
       "      <td>group0007-a.mp4</td>\n",
       "      <td>resized-41d9ad7a1b980e63.png</td>\n",
       "      <td>group0007-audio.m4a</td>\n",
       "    </tr>\n",
       "    <tr>\n",
       "      <th>8</th>\n",
       "      <td>0008</td>\n",
       "      <td>50caf99e2383f614.png</td>\n",
       "      <td>2.368435</td>\n",
       "      <td>8bd9c4d8f557bc46.m4a</td>\n",
       "      <td>group0008.mp4</td>\n",
       "      <td>group0008-a.mp4</td>\n",
       "      <td>resized-50caf99e2383f614.png</td>\n",
       "      <td>group0008-audio.m4a</td>\n",
       "    </tr>\n",
       "    <tr>\n",
       "      <th>9</th>\n",
       "      <td>0009</td>\n",
       "      <td>f30c6fbc6875126a.png</td>\n",
       "      <td>4.783311</td>\n",
       "      <td>e446517dd3833069.m4a</td>\n",
       "      <td>group0009.mp4</td>\n",
       "      <td>group0009-a.mp4</td>\n",
       "      <td>resized-f30c6fbc6875126a.png</td>\n",
       "      <td>group0009-audio.m4a</td>\n",
       "    </tr>\n",
       "  </tbody>\n",
       "</table>\n",
       "</div>"
      ],
      "text/plain": [
       "  group              fn_image  duration              fn_audio  fn_video_only  \\\n",
       "0  0000     default-image.png  4.876190  0b6f2772f708dd15.m4a  group0000.mp4   \n",
       "1  0001  5bf67d1c0729bd50.png  2.461315  e99d8b267c0f2b29.m4a  group0001.mp4   \n",
       "2  0002  3a9e810ed3b010a4.png  2.507755  07c025cc4e45e727.m4a  group0002.mp4   \n",
       "3  0003  b30b2910be978147.png  2.414875  b30a844bd7d16bd3.m4a  group0003.mp4   \n",
       "4  0004  f7c4cc87ce36317c.png  2.414875  f5329785a4ee9a50.m4a  group0004.mp4   \n",
       "5  0005  bb32e45dfe24271c.png  2.461315  ac1257d717ef7162.m4a  group0005.mp4   \n",
       "6  0006  9126b1c656683fc7.png  2.507755  7539841ff27fa2c9.m4a  group0006.mp4   \n",
       "7  0007  41d9ad7a1b980e63.png  2.554195  bc18b83623f6c7c4.m4a  group0007.mp4   \n",
       "8  0008  50caf99e2383f614.png  2.368435  8bd9c4d8f557bc46.m4a  group0008.mp4   \n",
       "9  0009  f30c6fbc6875126a.png  4.783311  e446517dd3833069.m4a  group0009.mp4   \n",
       "\n",
       "          fn_video              fn_image_resized        fn_audio_only  \n",
       "0  group0000-a.mp4     resized-default-image.png  group0000-audio.m4a  \n",
       "1  group0001-a.mp4  resized-5bf67d1c0729bd50.png  group0001-audio.m4a  \n",
       "2  group0002-a.mp4  resized-3a9e810ed3b010a4.png  group0002-audio.m4a  \n",
       "3  group0003-a.mp4  resized-b30b2910be978147.png  group0003-audio.m4a  \n",
       "4  group0004-a.mp4  resized-f7c4cc87ce36317c.png  group0004-audio.m4a  \n",
       "5  group0005-a.mp4  resized-bb32e45dfe24271c.png  group0005-audio.m4a  \n",
       "6  group0006-a.mp4  resized-9126b1c656683fc7.png  group0006-audio.m4a  \n",
       "7  group0007-a.mp4  resized-41d9ad7a1b980e63.png  group0007-audio.m4a  \n",
       "8  group0008-a.mp4  resized-50caf99e2383f614.png  group0008-audio.m4a  \n",
       "9  group0009-a.mp4  resized-f30c6fbc6875126a.png  group0009-audio.m4a  "
      ]
     },
     "execution_count": 31,
     "metadata": {},
     "output_type": "execute_result"
    }
   ],
   "source": [
    "df_scenes['fn_video_only'] = 'group' + df_scenes['group'] + '.mp4'\n",
    "df_scenes['fn_video'] = 'group' + df_scenes['group'] + '-a.mp4'\n",
    "#df_scenes['duration'] = df_scenes['duration'].apply(lambda x: int(np.ceil(float(x))))\n",
    "df_scenes['fn_image_resized'] = 'resized-' + df_scenes['fn_image']\n",
    "df_scenes['fn_audio_only'] = 'group' + df_scenes['group'] + '-audio.m4a'\n",
    "df_scenes"
   ]
  },
  {
   "cell_type": "code",
   "execution_count": 32,
   "metadata": {
    "collapsed": true
   },
   "outputs": [],
   "source": [
    "commands = []\n",
    "for (i, r) in df_scenes.iterrows():\n",
    "    commands.append('cp {fn_audio} {fn_audio_only}'.format(**r))\n",
    "commands\n",
    "for c in commands:\n",
    "    os.system(c)"
   ]
  },
  {
   "cell_type": "code",
   "execution_count": 33,
   "metadata": {
    "collapsed": true
   },
   "outputs": [],
   "source": [
    "commands = []\n",
    "for (i, r) in df_scenes.iterrows():\n",
    "    commands.append('convert {fn_image} -resize 600x400! {fn_image_resized}'.format(**r))\n",
    "commands\n",
    "for c in commands:\n",
    "    os.system(c)"
   ]
  },
  {
   "cell_type": "code",
   "execution_count": 34,
   "metadata": {
    "collapsed": false
   },
   "outputs": [
    {
     "data": {
      "text/plain": [
       "['ffmpeg -f image2 -r 1/4.876190 -i resized-default-image.png -qscale:v 1 -copyts -vcodec mpeg4 -y -r 25 group0000.mp4',\n",
       " 'ffmpeg -f image2 -r 1/2.461315 -i resized-5bf67d1c0729bd50.png -qscale:v 1 -copyts -vcodec mpeg4 -y -r 25 group0001.mp4',\n",
       " 'ffmpeg -f image2 -r 1/2.507755 -i resized-3a9e810ed3b010a4.png -qscale:v 1 -copyts -vcodec mpeg4 -y -r 25 group0002.mp4',\n",
       " 'ffmpeg -f image2 -r 1/2.414875 -i resized-b30b2910be978147.png -qscale:v 1 -copyts -vcodec mpeg4 -y -r 25 group0003.mp4',\n",
       " 'ffmpeg -f image2 -r 1/2.414875 -i resized-f7c4cc87ce36317c.png -qscale:v 1 -copyts -vcodec mpeg4 -y -r 25 group0004.mp4',\n",
       " 'ffmpeg -f image2 -r 1/2.461315 -i resized-bb32e45dfe24271c.png -qscale:v 1 -copyts -vcodec mpeg4 -y -r 25 group0005.mp4',\n",
       " 'ffmpeg -f image2 -r 1/2.507755 -i resized-9126b1c656683fc7.png -qscale:v 1 -copyts -vcodec mpeg4 -y -r 25 group0006.mp4',\n",
       " 'ffmpeg -f image2 -r 1/2.554195 -i resized-41d9ad7a1b980e63.png -qscale:v 1 -copyts -vcodec mpeg4 -y -r 25 group0007.mp4',\n",
       " 'ffmpeg -f image2 -r 1/2.368435 -i resized-50caf99e2383f614.png -qscale:v 1 -copyts -vcodec mpeg4 -y -r 25 group0008.mp4',\n",
       " 'ffmpeg -f image2 -r 1/4.783311 -i resized-f30c6fbc6875126a.png -qscale:v 1 -copyts -vcodec mpeg4 -y -r 25 group0009.mp4',\n",
       " 'ffmpeg -i group0000.mp4 -i 0b6f2772f708dd15.m4a -qscale:v 1 -copyts -vcodec copy -acodec copy -y group0000-a.mp4',\n",
       " 'ffmpeg -i group0001.mp4 -i e99d8b267c0f2b29.m4a -qscale:v 1 -copyts -vcodec copy -acodec copy -y group0001-a.mp4',\n",
       " 'ffmpeg -i group0002.mp4 -i 07c025cc4e45e727.m4a -qscale:v 1 -copyts -vcodec copy -acodec copy -y group0002-a.mp4',\n",
       " 'ffmpeg -i group0003.mp4 -i b30a844bd7d16bd3.m4a -qscale:v 1 -copyts -vcodec copy -acodec copy -y group0003-a.mp4',\n",
       " 'ffmpeg -i group0004.mp4 -i f5329785a4ee9a50.m4a -qscale:v 1 -copyts -vcodec copy -acodec copy -y group0004-a.mp4',\n",
       " 'ffmpeg -i group0005.mp4 -i ac1257d717ef7162.m4a -qscale:v 1 -copyts -vcodec copy -acodec copy -y group0005-a.mp4',\n",
       " 'ffmpeg -i group0006.mp4 -i 7539841ff27fa2c9.m4a -qscale:v 1 -copyts -vcodec copy -acodec copy -y group0006-a.mp4',\n",
       " 'ffmpeg -i group0007.mp4 -i bc18b83623f6c7c4.m4a -qscale:v 1 -copyts -vcodec copy -acodec copy -y group0007-a.mp4',\n",
       " 'ffmpeg -i group0008.mp4 -i 8bd9c4d8f557bc46.m4a -qscale:v 1 -copyts -vcodec copy -acodec copy -y group0008-a.mp4',\n",
       " 'ffmpeg -i group0009.mp4 -i e446517dd3833069.m4a -qscale:v 1 -copyts -vcodec copy -acodec copy -y group0009-a.mp4']"
      ]
     },
     "execution_count": 34,
     "metadata": {},
     "output_type": "execute_result"
    }
   ],
   "source": [
    "commands = []\n",
    "for (i, r) in df_scenes.iterrows():\n",
    "    commands.append('ffmpeg -f image2 -r 1/{duration} -i {fn_image_resized} -qscale:v 1 -copyts -vcodec mpeg4 -y -r 25 {fn_video_only}'.format(**r))\n",
    "for (i, r) in df_scenes.iterrows():\n",
    "    commands.append('ffmpeg -i {fn_video_only} -i {fn_audio} -qscale:v 1 -copyts -vcodec copy -acodec copy -y {fn_video}'.format(**r))\n",
    "    #commands.append('ffmpeg -i {fn_video_only} -i {fn_audio} -map 0:0 -map 1 -vcodec copy -acodec copy -y {fn_video}'.format(**r))\n",
    "commands"
   ]
  },
  {
   "cell_type": "code",
   "execution_count": 35,
   "metadata": {
    "collapsed": true
   },
   "outputs": [],
   "source": [
    "for c in commands:\n",
    "    os.system(c)"
   ]
  },
  {
   "cell_type": "code",
   "execution_count": 36,
   "metadata": {
    "collapsed": false
   },
   "outputs": [
    {
     "data": {
      "text/plain": [
       "229"
      ]
     },
     "execution_count": 36,
     "metadata": {},
     "output_type": "execute_result"
    }
   ],
   "source": [
    "open('playlist.txt', 'w').write('\\n'.join(list(df_scenes['fn_video'].apply(lambda x: \"file '%s'\" % x))))"
   ]
  },
  {
   "cell_type": "code",
   "execution_count": 37,
   "metadata": {
    "collapsed": false
   },
   "outputs": [
    {
     "data": {
      "text/plain": [
       "0"
      ]
     },
     "execution_count": 37,
     "metadata": {},
     "output_type": "execute_result"
    }
   ],
   "source": [
    "os.system('ffmpeg -f concat -i playlist.txt -c copy -y output.mp4')\n",
    "#os.system('ffmpeg -i output.mpg -qscale:v 2 -copyts output.mp4')"
   ]
  },
  {
   "cell_type": "markdown",
   "metadata": {},
   "source": [
    "First time I reach here, we have DTS problem:\n",
    "\n",
    "```\n",
    "[concat @ 0x7f9e02805800] DTS 162144 < 181089 out of order\n",
    "[mp4 @ 0x7f9e02825200] Non-monotonous DTS in output stream 0:0; previous: 181089, current: 162144; changing to 181090. This may result in incorrect timestamps in the output file.\n",
    "[mp4 @ 0x7f9e02825200] Non-monotonous DTS in output stream 0:0; previous: 202320, current: 156516; changing to 202321. This may result in incorrect timestamps in the output file.\n",
    "[mp4 @ 0x7f9e02825200] Non-monotonous DTS in output stream 0:0; previous: 481191, current: 433383; changing to 481192. This may result in incorrect timestamps in the output file.\n",
    "[mp4 @ 0x7f9e02825200] Non-monotonous DTS in output stream 0:0; previous: 481192, current: 341667; changing to 481193. This may result in incorrect timestamps in the output file.\n",
    "```\n",
    "\n",
    "some info:\n",
    "http://dranger.com/ffmpeg/tutorial05.html\n",
    "\n",
    "This playlist yields valid graphics:\n",
    "\n",
    "```\n",
    "%cat playlist.txt\n",
    "#file 'group0000.mp4'\n",
    "file 'group0001.mp4'\n",
    "file 'group0002.mp4'\n",
    "file 'group0003.mp4'\n",
    "file 'group0004.mp4'\n",
    "file 'group0005.mp4'\n",
    "file 'group0006.mp4'\n",
    "file 'group0007.mp4'\n",
    "file 'group0008.mp4'\n",
    "file 'group0009.mp4'\n",
    "```\n",
    "\n",
    "As suggested by http://stackoverflow.com/questions/12847262/ffmpeg-video-concatenation-audio-videotrack-synchronisation , we add `-copyts` to every command. \n",
    "The result is a almost aligned video with some sound missing.\n",
    "(not working)\n",
    "\n",
    "someone else mentioned `-sameq` option. \n",
    "http://stackoverflow.com/questions/7388184/ffmpeg-sound-going-out-of-sync-with-concat-or-ss\n",
    "(not tested)\n",
    "\n",
    "This post\n",
    "http://stackoverflow.com/questions/7015489/building-video-from-images-with-ffmpeg-w-pause-between-frames\n",
    "inspires me to try `-r 25` for the output stream. That seems to solve the out-of-sync problem.\n",
    "The trap here: `ffmpeg` accepts `-r` at two positions, one for input stream, one for output stream. We need to set the output stream to something accepted by the standard."
   ]
  },
  {
   "cell_type": "code",
   "execution_count": null,
   "metadata": {
    "collapsed": true
   },
   "outputs": [],
   "source": []
  },
  {
   "cell_type": "code",
   "execution_count": null,
   "metadata": {
    "collapsed": true
   },
   "outputs": [],
   "source": []
  },
  {
   "cell_type": "code",
   "execution_count": null,
   "metadata": {
    "collapsed": true
   },
   "outputs": [],
   "source": []
  },
  {
   "cell_type": "code",
   "execution_count": null,
   "metadata": {
    "collapsed": true
   },
   "outputs": [],
   "source": []
  }
 ],
 "metadata": {
  "kernelspec": {
   "display_name": "Python 3",
   "language": "python",
   "name": "python3"
  },
  "language_info": {
   "codemirror_mode": {
    "name": "ipython",
    "version": 3
   },
   "file_extension": ".py",
   "mimetype": "text/x-python",
   "name": "python",
   "nbconvert_exporter": "python",
   "pygments_lexer": "ipython3",
   "version": "3.4.3"
  }
 },
 "nbformat": 4,
 "nbformat_minor": 0
}
