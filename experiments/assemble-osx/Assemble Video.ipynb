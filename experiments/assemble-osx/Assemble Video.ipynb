{
 "cells": [
  {
   "cell_type": "code",
   "execution_count": 1,
   "metadata": {
    "collapsed": true
   },
   "outputs": [],
   "source": [
    "from IPython.display import HTML"
   ]
  },
  {
   "cell_type": "code",
   "execution_count": 2,
   "metadata": {
    "collapsed": false
   },
   "outputs": [],
   "source": [
    "import requests\n"
   ]
  },
  {
   "cell_type": "code",
   "execution_count": 3,
   "metadata": {
    "collapsed": true
   },
   "outputs": [],
   "source": [
    "res = requests.get('http://project.initiumlab.com/news2video/case1/index.html')"
   ]
  },
  {
   "cell_type": "code",
   "execution_count": 4,
   "metadata": {
    "collapsed": false
   },
   "outputs": [],
   "source": [
    "html = res.content.decode('utf-8')"
   ]
  },
  {
   "cell_type": "code",
   "execution_count": 5,
   "metadata": {
    "collapsed": false
   },
   "outputs": [],
   "source": [
    "from readability.readability import Document\n",
    "readable_article = Document(html).summary()\n",
    "readable_title = Document(html).short_title()"
   ]
  },
  {
   "cell_type": "code",
   "execution_count": 6,
   "metadata": {
    "collapsed": false
   },
   "outputs": [
    {
     "data": {
      "text/plain": [
       "'<html><body><div><article id=\"main\">\\n\\n  <h1>Walk: A Boring Story</h1>\\n\\n  I\\'m going to tell you a boring story.\\n\\n  <img src=\"1.jpg\" alt=\"\"/>\\n  <p>\\n    This is the first step I move.\\n  </p>\\n\\n  <img src=\"2.jpg\" alt=\"\"/>\\n  <p>\\n    This is the second step I move.\\n  </p>\\n\\n  <img src=\"3.jpg\" alt=\"\"/>\\n  <p>\\n    This is the third step I move.\\n  </p>\\n\\n  <img src=\"4.jpg\" alt=\"\"/>\\n  <p>\\n    This is the fourth step I move.\\n  </p>\\n\\n  <img src=\"5.jpg\" alt=\"\"/>\\n  <p>\\n    This is the fifth step I move.\\n  </p>\\n\\n  <img src=\"6.jpg\" alt=\"\"/>\\n  <p>\\n    This is the sixth step I move.\\n  </p>\\n\\n  <img src=\"7.jpg\" alt=\"\"/>\\n  <p>\\n    This is the seventh step I move.\\n  </p>\\n\\n  <img src=\"8.jpg\" alt=\"\"/>\\n  <p>\\n    This is the eighth step I move.\\n  </p>\\n\\n  <img src=\"9.jpg\" alt=\"\"/>\\n  <p>\\n    This is the final step I move.\\n  </p>\\n\\n  <p>\\n    Thank you for reading this story.\\n  </p>\\n\\n</article>\\n\\n</div></body></html>'"
      ]
     },
     "execution_count": 6,
     "metadata": {},
     "output_type": "execute_result"
    }
   ],
   "source": [
    "readable_article"
   ]
  },
  {
   "cell_type": "code",
   "execution_count": 7,
   "metadata": {
    "collapsed": false
   },
   "outputs": [
    {
     "data": {
      "text/html": [
       "<html><body><div><article id=\"main\">\n",
       "\n",
       "  <h1>Walk: A Boring Story</h1>\n",
       "\n",
       "  I'm going to tell you a boring story.\n",
       "\n",
       "  <img src=\"1.jpg\" alt=\"\"/>\n",
       "  <p>\n",
       "    This is the first step I move.\n",
       "  </p>\n",
       "\n",
       "  <img src=\"2.jpg\" alt=\"\"/>\n",
       "  <p>\n",
       "    This is the second step I move.\n",
       "  </p>\n",
       "\n",
       "  <img src=\"3.jpg\" alt=\"\"/>\n",
       "  <p>\n",
       "    This is the third step I move.\n",
       "  </p>\n",
       "\n",
       "  <img src=\"4.jpg\" alt=\"\"/>\n",
       "  <p>\n",
       "    This is the fourth step I move.\n",
       "  </p>\n",
       "\n",
       "  <img src=\"5.jpg\" alt=\"\"/>\n",
       "  <p>\n",
       "    This is the fifth step I move.\n",
       "  </p>\n",
       "\n",
       "  <img src=\"6.jpg\" alt=\"\"/>\n",
       "  <p>\n",
       "    This is the sixth step I move.\n",
       "  </p>\n",
       "\n",
       "  <img src=\"7.jpg\" alt=\"\"/>\n",
       "  <p>\n",
       "    This is the seventh step I move.\n",
       "  </p>\n",
       "\n",
       "  <img src=\"8.jpg\" alt=\"\"/>\n",
       "  <p>\n",
       "    This is the eighth step I move.\n",
       "  </p>\n",
       "\n",
       "  <img src=\"9.jpg\" alt=\"\"/>\n",
       "  <p>\n",
       "    This is the final step I move.\n",
       "  </p>\n",
       "\n",
       "  <p>\n",
       "    Thank you for reading this story.\n",
       "  </p>\n",
       "\n",
       "</article>\n",
       "\n",
       "</div></body></html>"
      ],
      "text/plain": [
       "<IPython.core.display.HTML object>"
      ]
     },
     "execution_count": 7,
     "metadata": {},
     "output_type": "execute_result"
    }
   ],
   "source": [
    "HTML(readable_article)"
   ]
  },
  {
   "cell_type": "code",
   "execution_count": 8,
   "metadata": {
    "collapsed": false
   },
   "outputs": [
    {
     "name": "stdout",
     "output_type": "stream",
     "text": [
      "http://project.initiumlab.com/news2video/case1/index.html\n",
      "http://project.initiumlab.com/news2video/case1\n"
     ]
    }
   ],
   "source": [
    "from os import path\n",
    "base_url = path.dirname(res.request.url)\n",
    "print(res.request.url)\n",
    "print(base_url)"
   ]
  },
  {
   "cell_type": "code",
   "execution_count": 9,
   "metadata": {
    "collapsed": false
   },
   "outputs": [
    {
     "name": "stdout",
     "output_type": "stream",
     "text": [
      "Overwriting test.txt\n"
     ]
    }
   ],
   "source": [
    "%%file test.txt\n",
    "test"
   ]
  },
  {
   "cell_type": "code",
   "execution_count": 10,
   "metadata": {
    "collapsed": false
   },
   "outputs": [
    {
     "name": "stdout",
     "output_type": "stream",
     "text": [
      "# Walk: A Boring Story\n",
      "\n",
      "I'm going to tell you a boring story. ![](1.jpg)\n",
      "\n",
      "This is the first step I move.\n",
      "\n",
      "![](2.jpg)\n",
      "\n",
      "This is the second step I move.\n",
      "\n",
      "![](3.jpg)\n",
      "\n",
      "This is the third step I move.\n",
      "\n",
      "![](4.jpg)\n",
      "\n",
      "This is the fourth step I move.\n",
      "\n",
      "![](5.jpg)\n",
      "\n",
      "This is the fifth step I move.\n",
      "\n",
      "![](6.jpg)\n",
      "\n",
      "This is the sixth step I move.\n",
      "\n",
      "![](7.jpg)\n",
      "\n",
      "This is the seventh step I move.\n",
      "\n",
      "![](8.jpg)\n",
      "\n",
      "This is the eighth step I move.\n",
      "\n",
      "![](9.jpg)\n",
      "\n",
      "This is the final step I move.\n",
      "\n",
      "Thank you for reading this story.\n",
      "\n",
      "\n"
     ]
    }
   ],
   "source": [
    "import html2text\n",
    "print(html2text.html2text(readable_article))"
   ]
  },
  {
   "cell_type": "code",
   "execution_count": 11,
   "metadata": {
    "collapsed": true
   },
   "outputs": [],
   "source": [
    "from pyquery import PyQuery as pq"
   ]
  },
  {
   "cell_type": "code",
   "execution_count": 12,
   "metadata": {
    "collapsed": false
   },
   "outputs": [],
   "source": [
    "#r = pq(readable_article)\n",
    "#r('img').map(lambda i, e: pq(e).attr('src', '%s/%s' % (base_url, pq(e).attr('src'))))"
   ]
  },
  {
   "cell_type": "code",
   "execution_count": 13,
   "metadata": {
    "collapsed": false
   },
   "outputs": [],
   "source": [
    "#readable_article"
   ]
  },
  {
   "cell_type": "code",
   "execution_count": 14,
   "metadata": {
    "collapsed": false
   },
   "outputs": [],
   "source": [
    "from html.parser import HTMLParser\n",
    "#from HTMLParser import HTMLParser\n",
    "#from htmlentitydefs import name2codepoint\n",
    "\n",
    "class MyHTMLParser(HTMLParser):\n",
    "    def handle_starttag(self, tag, attrs):\n",
    "        print(\"Start tag:\", tag)\n",
    "        for attr in attrs:\n",
    "            print(\"     attr:\", attr)\n",
    "    def handle_endtag(self, tag):\n",
    "        print(\"End tag  :\", tag)\n",
    "    def handle_data(self, data):\n",
    "        print(\"Data     :\", data)\n",
    "    def handle_comment(self, data):\n",
    "        print(\"Comment  :\", data)\n",
    "    def handle_entityref(self, name):\n",
    "        #c = unichr(name2codepoint[name])\n",
    "        c = 'entity name should be here'\n",
    "        print(\"Named ent:\", c)\n",
    "    def handle_charref(self, name):\n",
    "        if name.startswith('x'):\n",
    "            c = unichr(int(name[1:], 16))\n",
    "        else:\n",
    "            c = unichr(int(name))\n",
    "        print(\"Num ent  :\", c)\n",
    "    def handle_decl(self, data):\n",
    "        print(\"Decl     :\", data)\n",
    "\n",
    "parser = MyHTMLParser()"
   ]
  },
  {
   "cell_type": "code",
   "execution_count": 15,
   "metadata": {
    "collapsed": false
   },
   "outputs": [
    {
     "name": "stdout",
     "output_type": "stream",
     "text": [
      "Start tag: html\n",
      "Start tag: body\n",
      "Start tag: div\n",
      "Start tag: article\n",
      "     attr: ('id', 'main')\n",
      "Data     : \n",
      "\n",
      "  \n",
      "Start tag: h1\n",
      "Data     : Walk: A Boring Story\n",
      "End tag  : h1\n",
      "Data     : \n",
      "\n",
      "  I'm going to tell you a boring story.\n",
      "\n",
      "  \n",
      "Start tag: img\n",
      "     attr: ('src', '1.jpg')\n",
      "     attr: ('alt', '')\n",
      "End tag  : img\n",
      "Data     : \n",
      "  \n",
      "Start tag: p\n",
      "Data     : \n",
      "    This is the first step I move.\n",
      "  \n",
      "End tag  : p\n",
      "Data     : \n",
      "\n",
      "  \n",
      "Start tag: img\n",
      "     attr: ('src', '2.jpg')\n",
      "     attr: ('alt', '')\n",
      "End tag  : img\n",
      "Data     : \n",
      "  \n",
      "Start tag: p\n",
      "Data     : \n",
      "    This is the second step I move.\n",
      "  \n",
      "End tag  : p\n",
      "Data     : \n",
      "\n",
      "  \n",
      "Start tag: img\n",
      "     attr: ('src', '3.jpg')\n",
      "     attr: ('alt', '')\n",
      "End tag  : img\n",
      "Data     : \n",
      "  \n",
      "Start tag: p\n",
      "Data     : \n",
      "    This is the third step I move.\n",
      "  \n",
      "End tag  : p\n",
      "Data     : \n",
      "\n",
      "  \n",
      "Start tag: img\n",
      "     attr: ('src', '4.jpg')\n",
      "     attr: ('alt', '')\n",
      "End tag  : img\n",
      "Data     : \n",
      "  \n",
      "Start tag: p\n",
      "Data     : \n",
      "    This is the fourth step I move.\n",
      "  \n",
      "End tag  : p\n",
      "Data     : \n",
      "\n",
      "  \n",
      "Start tag: img\n",
      "     attr: ('src', '5.jpg')\n",
      "     attr: ('alt', '')\n",
      "End tag  : img\n",
      "Data     : \n",
      "  \n",
      "Start tag: p\n",
      "Data     : \n",
      "    This is the fifth step I move.\n",
      "  \n",
      "End tag  : p\n",
      "Data     : \n",
      "\n",
      "  \n",
      "Start tag: img\n",
      "     attr: ('src', '6.jpg')\n",
      "     attr: ('alt', '')\n",
      "End tag  : img\n",
      "Data     : \n",
      "  \n",
      "Start tag: p\n",
      "Data     : \n",
      "    This is the sixth step I move.\n",
      "  \n",
      "End tag  : p\n",
      "Data     : \n",
      "\n",
      "  \n",
      "Start tag: img\n",
      "     attr: ('src', '7.jpg')\n",
      "     attr: ('alt', '')\n",
      "End tag  : img\n",
      "Data     : \n",
      "  \n",
      "Start tag: p\n",
      "Data     : \n",
      "    This is the seventh step I move.\n",
      "  \n",
      "End tag  : p\n",
      "Data     : \n",
      "\n",
      "  \n",
      "Start tag: img\n",
      "     attr: ('src', '8.jpg')\n",
      "     attr: ('alt', '')\n",
      "End tag  : img\n",
      "Data     : \n",
      "  \n",
      "Start tag: p\n",
      "Data     : \n",
      "    This is the eighth step I move.\n",
      "  \n",
      "End tag  : p\n",
      "Data     : \n",
      "\n",
      "  \n",
      "Start tag: img\n",
      "     attr: ('src', '9.jpg')\n",
      "     attr: ('alt', '')\n",
      "End tag  : img\n",
      "Data     : \n",
      "  \n",
      "Start tag: p\n",
      "Data     : \n",
      "    This is the final step I move.\n",
      "  \n",
      "End tag  : p\n",
      "Data     : \n",
      "\n",
      "  \n",
      "Start tag: p\n",
      "Data     : \n",
      "    Thank you for reading this story.\n",
      "  \n",
      "End tag  : p\n",
      "Data     : \n",
      "\n",
      "\n",
      "End tag  : article\n",
      "Data     : \n",
      "\n",
      "\n",
      "End tag  : div\n",
      "End tag  : body\n",
      "End tag  : html\n"
     ]
    }
   ],
   "source": [
    "parser.feed(readable_article)"
   ]
  },
  {
   "cell_type": "markdown",
   "metadata": {},
   "source": [
    "Remark: not easy to use"
   ]
  },
  {
   "cell_type": "code",
   "execution_count": 21,
   "metadata": {
    "collapsed": false
   },
   "outputs": [
    {
     "name": "stdout",
     "output_type": "stream",
     "text": [
      "[('text', \" Walk: A Boring Story  I'm going to tell you a boring story. \"), ('image', 'http://project.initiumlab.com/news2video/case1/1.jpg'), ('text', ' This is the first step I move. '), ('image', 'http://project.initiumlab.com/news2video/case1/2.jpg'), ('text', ' This is the second step I move. '), ('image', 'http://project.initiumlab.com/news2video/case1/3.jpg'), ('text', ' This is the third step I move. '), ('image', 'http://project.initiumlab.com/news2video/case1/4.jpg'), ('text', ' This is the fourth step I move. '), ('image', 'http://project.initiumlab.com/news2video/case1/5.jpg'), ('text', ' This is the fifth step I move. '), ('image', 'http://project.initiumlab.com/news2video/case1/6.jpg'), ('text', ' This is the sixth step I move. '), ('image', 'http://project.initiumlab.com/news2video/case1/7.jpg'), ('text', ' This is the seventh step I move. '), ('image', 'http://project.initiumlab.com/news2video/case1/8.jpg'), ('text', ' This is the eighth step I move. '), ('image', 'http://project.initiumlab.com/news2video/case1/9.jpg'), ('text', ' This is the final step I move.  Thank you for reading this story. ')]\n"
     ]
    }
   ],
   "source": [
    "# reference:\n",
    "# http://stackoverflow.com/questions/20590624/python-beautifulsoup-div-text-and-img-attributes-in-correct-order\n",
    "import bs4\n",
    "from bs4 import Tag, BeautifulSoup \n",
    "\n",
    "class Extractor(object):\n",
    "    def __init__(self):\n",
    "        self.cur_text = ''\n",
    "        self.result = []\n",
    "    \n",
    "    def recursive_extract_text_image(self, obj):\n",
    "        for child in obj.children:\n",
    "            if isinstance(child, Tag):\n",
    "                #result.append(child.get('alt', ''))\n",
    "                self.recursive_extract_text_image(child)\n",
    "                if child.name == 'img':\n",
    "                    self.result.append(('text', self.cur_text))\n",
    "                    self.cur_text = ''\n",
    "                    self.result.append(('image',\n",
    "                                   '%s/%s' % (base_url, child['src'])\n",
    "                                  ))\n",
    "            else:\n",
    "                if len(child.strip()) > 0:\n",
    "                    self.cur_text += ' ' + child.strip() + ' '\n",
    "\n",
    "    def html_to_asset_list(self, html):\n",
    "        bs_obj = BeautifulSoup(html, 'html.parser')\n",
    "        self.recursive_extract_text_image(bs_obj)\n",
    "        self.result.append(('text', self.cur_text))\n",
    "        return self.result\n",
    "\n",
    "result = Extractor().html_to_asset_list(readable_article)\n",
    "print(result)"
   ]
  },
  {
   "cell_type": "code",
   "execution_count": 22,
   "metadata": {
    "collapsed": true
   },
   "outputs": [],
   "source": [
    "import pandas as pd"
   ]
  },
  {
   "cell_type": "code",
   "execution_count": 23,
   "metadata": {
    "collapsed": false
   },
   "outputs": [],
   "source": [
    "df_screenplay = pd.DataFrame(result, columns=['type', 'content'])"
   ]
  },
  {
   "cell_type": "code",
   "execution_count": 24,
   "metadata": {
    "collapsed": false
   },
   "outputs": [],
   "source": [
    "import hashlib \n",
    "def string2hash(s):\n",
    "    m = hashlib.sha256()\n",
    "    m.update(s.encode('utf-8'))\n",
    "    return m.hexdigest()[:16]\n",
    "df_screenplay['local_src'] = df_screenplay['content'].apply(lambda x: string2hash(x))"
   ]
  },
  {
   "cell_type": "code",
   "execution_count": 26,
   "metadata": {
    "collapsed": false
   },
   "outputs": [
    {
     "data": {
      "text/html": [
       "<div>\n",
       "<table border=\"1\" class=\"dataframe\">\n",
       "  <thead>\n",
       "    <tr style=\"text-align: right;\">\n",
       "      <th></th>\n",
       "      <th>type</th>\n",
       "      <th>content</th>\n",
       "      <th>local_src</th>\n",
       "      <th>filename</th>\n",
       "      <th>extname</th>\n",
       "    </tr>\n",
       "  </thead>\n",
       "  <tbody>\n",
       "    <tr>\n",
       "      <th>0</th>\n",
       "      <td>text</td>\n",
       "      <td>Walk: A Boring Story  I'm going to tell you a...</td>\n",
       "      <td>0b6f2772f708dd15</td>\n",
       "      <td>NaN</td>\n",
       "      <td>NaN</td>\n",
       "    </tr>\n",
       "    <tr>\n",
       "      <th>1</th>\n",
       "      <td>image</td>\n",
       "      <td>http://project.initiumlab.com/news2video/case1...</td>\n",
       "      <td>5bf67d1c0729bd50</td>\n",
       "      <td>1.jpg</td>\n",
       "      <td>.jpg</td>\n",
       "    </tr>\n",
       "    <tr>\n",
       "      <th>2</th>\n",
       "      <td>text</td>\n",
       "      <td>This is the first step I move.</td>\n",
       "      <td>e99d8b267c0f2b29</td>\n",
       "      <td>NaN</td>\n",
       "      <td>NaN</td>\n",
       "    </tr>\n",
       "    <tr>\n",
       "      <th>3</th>\n",
       "      <td>image</td>\n",
       "      <td>http://project.initiumlab.com/news2video/case1...</td>\n",
       "      <td>3a9e810ed3b010a4</td>\n",
       "      <td>2.jpg</td>\n",
       "      <td>.jpg</td>\n",
       "    </tr>\n",
       "    <tr>\n",
       "      <th>4</th>\n",
       "      <td>text</td>\n",
       "      <td>This is the second step I move.</td>\n",
       "      <td>07c025cc4e45e727</td>\n",
       "      <td>NaN</td>\n",
       "      <td>NaN</td>\n",
       "    </tr>\n",
       "    <tr>\n",
       "      <th>5</th>\n",
       "      <td>image</td>\n",
       "      <td>http://project.initiumlab.com/news2video/case1...</td>\n",
       "      <td>b30b2910be978147</td>\n",
       "      <td>3.jpg</td>\n",
       "      <td>.jpg</td>\n",
       "    </tr>\n",
       "    <tr>\n",
       "      <th>6</th>\n",
       "      <td>text</td>\n",
       "      <td>This is the third step I move.</td>\n",
       "      <td>b30a844bd7d16bd3</td>\n",
       "      <td>NaN</td>\n",
       "      <td>NaN</td>\n",
       "    </tr>\n",
       "    <tr>\n",
       "      <th>7</th>\n",
       "      <td>image</td>\n",
       "      <td>http://project.initiumlab.com/news2video/case1...</td>\n",
       "      <td>f7c4cc87ce36317c</td>\n",
       "      <td>4.jpg</td>\n",
       "      <td>.jpg</td>\n",
       "    </tr>\n",
       "    <tr>\n",
       "      <th>8</th>\n",
       "      <td>text</td>\n",
       "      <td>This is the fourth step I move.</td>\n",
       "      <td>f5329785a4ee9a50</td>\n",
       "      <td>NaN</td>\n",
       "      <td>NaN</td>\n",
       "    </tr>\n",
       "    <tr>\n",
       "      <th>9</th>\n",
       "      <td>image</td>\n",
       "      <td>http://project.initiumlab.com/news2video/case1...</td>\n",
       "      <td>bb32e45dfe24271c</td>\n",
       "      <td>5.jpg</td>\n",
       "      <td>.jpg</td>\n",
       "    </tr>\n",
       "    <tr>\n",
       "      <th>10</th>\n",
       "      <td>text</td>\n",
       "      <td>This is the fifth step I move.</td>\n",
       "      <td>ac1257d717ef7162</td>\n",
       "      <td>NaN</td>\n",
       "      <td>NaN</td>\n",
       "    </tr>\n",
       "    <tr>\n",
       "      <th>11</th>\n",
       "      <td>image</td>\n",
       "      <td>http://project.initiumlab.com/news2video/case1...</td>\n",
       "      <td>9126b1c656683fc7</td>\n",
       "      <td>6.jpg</td>\n",
       "      <td>.jpg</td>\n",
       "    </tr>\n",
       "    <tr>\n",
       "      <th>12</th>\n",
       "      <td>text</td>\n",
       "      <td>This is the sixth step I move.</td>\n",
       "      <td>7539841ff27fa2c9</td>\n",
       "      <td>NaN</td>\n",
       "      <td>NaN</td>\n",
       "    </tr>\n",
       "    <tr>\n",
       "      <th>13</th>\n",
       "      <td>image</td>\n",
       "      <td>http://project.initiumlab.com/news2video/case1...</td>\n",
       "      <td>41d9ad7a1b980e63</td>\n",
       "      <td>7.jpg</td>\n",
       "      <td>.jpg</td>\n",
       "    </tr>\n",
       "    <tr>\n",
       "      <th>14</th>\n",
       "      <td>text</td>\n",
       "      <td>This is the seventh step I move.</td>\n",
       "      <td>bc18b83623f6c7c4</td>\n",
       "      <td>NaN</td>\n",
       "      <td>NaN</td>\n",
       "    </tr>\n",
       "    <tr>\n",
       "      <th>15</th>\n",
       "      <td>image</td>\n",
       "      <td>http://project.initiumlab.com/news2video/case1...</td>\n",
       "      <td>50caf99e2383f614</td>\n",
       "      <td>8.jpg</td>\n",
       "      <td>.jpg</td>\n",
       "    </tr>\n",
       "    <tr>\n",
       "      <th>16</th>\n",
       "      <td>text</td>\n",
       "      <td>This is the eighth step I move.</td>\n",
       "      <td>8bd9c4d8f557bc46</td>\n",
       "      <td>NaN</td>\n",
       "      <td>NaN</td>\n",
       "    </tr>\n",
       "    <tr>\n",
       "      <th>17</th>\n",
       "      <td>image</td>\n",
       "      <td>http://project.initiumlab.com/news2video/case1...</td>\n",
       "      <td>f30c6fbc6875126a</td>\n",
       "      <td>9.jpg</td>\n",
       "      <td>.jpg</td>\n",
       "    </tr>\n",
       "    <tr>\n",
       "      <th>18</th>\n",
       "      <td>text</td>\n",
       "      <td>This is the final step I move.  Thank you for...</td>\n",
       "      <td>e446517dd3833069</td>\n",
       "      <td>NaN</td>\n",
       "      <td>NaN</td>\n",
       "    </tr>\n",
       "  </tbody>\n",
       "</table>\n",
       "</div>"
      ],
      "text/plain": [
       "     type                                            content  \\\n",
       "0    text   Walk: A Boring Story  I'm going to tell you a...   \n",
       "1   image  http://project.initiumlab.com/news2video/case1...   \n",
       "2    text                    This is the first step I move.    \n",
       "3   image  http://project.initiumlab.com/news2video/case1...   \n",
       "4    text                   This is the second step I move.    \n",
       "5   image  http://project.initiumlab.com/news2video/case1...   \n",
       "6    text                    This is the third step I move.    \n",
       "7   image  http://project.initiumlab.com/news2video/case1...   \n",
       "8    text                   This is the fourth step I move.    \n",
       "9   image  http://project.initiumlab.com/news2video/case1...   \n",
       "10   text                    This is the fifth step I move.    \n",
       "11  image  http://project.initiumlab.com/news2video/case1...   \n",
       "12   text                    This is the sixth step I move.    \n",
       "13  image  http://project.initiumlab.com/news2video/case1...   \n",
       "14   text                  This is the seventh step I move.    \n",
       "15  image  http://project.initiumlab.com/news2video/case1...   \n",
       "16   text                   This is the eighth step I move.    \n",
       "17  image  http://project.initiumlab.com/news2video/case1...   \n",
       "18   text   This is the final step I move.  Thank you for...   \n",
       "\n",
       "           local_src filename extname  \n",
       "0   0b6f2772f708dd15      NaN     NaN  \n",
       "1   5bf67d1c0729bd50    1.jpg    .jpg  \n",
       "2   e99d8b267c0f2b29      NaN     NaN  \n",
       "3   3a9e810ed3b010a4    2.jpg    .jpg  \n",
       "4   07c025cc4e45e727      NaN     NaN  \n",
       "5   b30b2910be978147    3.jpg    .jpg  \n",
       "6   b30a844bd7d16bd3      NaN     NaN  \n",
       "7   f7c4cc87ce36317c    4.jpg    .jpg  \n",
       "8   f5329785a4ee9a50      NaN     NaN  \n",
       "9   bb32e45dfe24271c    5.jpg    .jpg  \n",
       "10  ac1257d717ef7162      NaN     NaN  \n",
       "11  9126b1c656683fc7    6.jpg    .jpg  \n",
       "12  7539841ff27fa2c9      NaN     NaN  \n",
       "13  41d9ad7a1b980e63    7.jpg    .jpg  \n",
       "14  bc18b83623f6c7c4      NaN     NaN  \n",
       "15  50caf99e2383f614    8.jpg    .jpg  \n",
       "16  8bd9c4d8f557bc46      NaN     NaN  \n",
       "17  f30c6fbc6875126a    9.jpg    .jpg  \n",
       "18  e446517dd3833069      NaN     NaN  "
      ]
     },
     "execution_count": 26,
     "metadata": {},
     "output_type": "execute_result"
    }
   ],
   "source": [
    "image_selector = (df_screenplay['type'] == 'image')\n",
    "df_screenplay.loc[image_selector, 'filename'] = df_screenplay.loc[\n",
    "    image_selector, 'content'].apply(lambda x: path.basename(x))\n",
    "df_screenplay.loc[image_selector, 'extname'] = df_screenplay.loc[\n",
    "    image_selector, 'filename'].apply(lambda x: path.splitext(x)[1])\n",
    "df_screenplay"
   ]
  },
  {
   "cell_type": "code",
   "execution_count": null,
   "metadata": {
    "collapsed": true
   },
   "outputs": [],
   "source": []
  },
  {
   "cell_type": "code",
   "execution_count": null,
   "metadata": {
    "collapsed": true
   },
   "outputs": [],
   "source": []
  }
 ],
 "metadata": {
  "kernelspec": {
   "display_name": "Python 3",
   "language": "python",
   "name": "python3"
  },
  "language_info": {
   "codemirror_mode": {
    "name": "ipython",
    "version": 3
   },
   "file_extension": ".py",
   "mimetype": "text/x-python",
   "name": "python",
   "nbconvert_exporter": "python",
   "pygments_lexer": "ipython3",
   "version": "3.4.3"
  }
 },
 "nbformat": 4,
 "nbformat_minor": 0
}
